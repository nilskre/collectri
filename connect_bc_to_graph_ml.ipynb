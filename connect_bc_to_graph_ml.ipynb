{
 "cells": [
  {
   "cell_type": "code",
   "execution_count": 1,
   "metadata": {},
   "outputs": [
    {
     "name": "stderr",
     "output_type": "stream",
     "text": [
      "INFO -- This is BioCypher v0.5.42.\n",
      "INFO -- Logging into `biocypher-log/biocypher-20240601-142004.log`.\n"
     ]
    }
   ],
   "source": [
    "from biocypher import BioCypher, Resource\n",
    "from collectri.adapters.collectri_adapter import CollectriAdapter"
   ]
  },
  {
   "cell_type": "markdown",
   "metadata": {},
   "source": [
    "## 1. Load the data"
   ]
  },
  {
   "cell_type": "code",
   "execution_count": 2,
   "metadata": {},
   "outputs": [],
   "source": [
    "# ----------------------\n",
    "# Setup: Should optional steps be run?\n",
    "# ----------------------\n",
    "\n",
    "RUN_OPTIONAL_STEPS = True"
   ]
  },
  {
   "cell_type": "code",
   "execution_count": 3,
   "metadata": {},
   "outputs": [
    {
     "name": "stderr",
     "output_type": "stream",
     "text": [
      "INFO -- Running BioCypher with schema configuration from config/schema_config.yaml.\n",
      "INFO -- Loading cache file .cache/cache.json.\n",
      "INFO -- Asking for download of collectri.\n",
      "Downloading data from 'https://rescued.omnipathdb.org/CollecTRI.csv' to file '/home/st/Repos/collectri/.cache/collectri/CollecTRI.csv'.\n",
      "100%|██████████████████████████████████████| 2.58M/2.58M [00:00<00:00, 996MB/s]\n",
      "SHA256 hash of downloaded file: 86c90b30f2cc75c189da1f0a8c353d1547287cd656a9fac1c678634285bcb4e0\n",
      "Use this value as the 'known_hash' argument of 'pooch.retrieve' to ensure that the file hasn't changed if it is downloaded again in the future.\n"
     ]
    }
   ],
   "source": [
    "# ----------------------\n",
    "# Step 1: Data download and cache\n",
    "# ----------------------\n",
    "\n",
    "bc = BioCypher()\n",
    "collectri = Resource(\n",
    "    name=\"collectri\",\n",
    "    url_s=\"https://rescued.omnipathdb.org/CollecTRI.csv\",\n",
    "    lifetime=0,  # CollecTRI is a static resource\n",
    ")\n",
    "paths = bc.download(collectri)"
   ]
  },
  {
   "cell_type": "code",
   "execution_count": 4,
   "metadata": {},
   "outputs": [
    {
     "name": "stdout",
     "output_type": "stream",
     "text": [
      "  source target  weight TF.category  \\\n",
      "0    MYC   TERT       1        dbTF   \n",
      "1   SPI1  BGLAP       1        dbTF   \n",
      "2    AP1    JUN       1        dbTF   \n",
      "3  SMAD3    JUN       1        dbTF   \n",
      "4  SMAD4    JUN       1        dbTF   \n",
      "\n",
      "                                           resources  \\\n",
      "0  ExTRI;HTRI;TRRUST;TFactS;NTNU.Curated;Pavlidis...   \n",
      "1                                              ExTRI   \n",
      "2                          ExTRI;TRRUST;NTNU.Curated   \n",
      "3                   ExTRI;TRRUST;TFactS;NTNU.Curated   \n",
      "4                   ExTRI;TRRUST;TFactS;NTNU.Curated   \n",
      "\n",
      "                                                PMID       sign.decision  \n",
      "0  10022128;10491298;10606235;10637317;10723141;1...                PMID  \n",
      "1                                           10022617  default activation  \n",
      "2  10022869;10037172;10208431;10366004;11281649;1...                PMID  \n",
      "3                                  10022869;12374795                PMID  \n",
      "4                                  10022869;12374795                PMID  \n",
      "Index(['source', 'target', 'weight', 'TF.category', 'resources', 'PMID',\n",
      "       'sign.decision'],\n",
      "      dtype='object')\n"
     ]
    }
   ],
   "source": [
    "# ----------------------\n",
    "# Optional: Inspect data\n",
    "# ----------------------\n",
    "\n",
    "if RUN_OPTIONAL_STEPS:\n",
    "    import pandas as pd\n",
    "\n",
    "    df = pd.read_csv(paths[0])\n",
    "    print(df.head())\n",
    "    print(df.columns)"
   ]
  },
  {
   "cell_type": "code",
   "execution_count": 5,
   "metadata": {},
   "outputs": [
    {
     "name": "stderr",
     "output_type": "stream",
     "text": [
      "INFO -- Preprocessing data.\n",
      "INFO -- Loading ontologies...\n",
      "INFO -- Instantiating OntologyAdapter class for https://github.com/biolink/biolink-model/raw/v3.2.1/biolink-model.owl.ttl.\n",
      "INFO -- Generating nodes.\n",
      "WARNING -- Duplicate node type transcription factor found. \n",
      "INFO -- Generating edges.\n",
      "INFO -- Running BioCypher with schema configuration from config/schema_config.yaml.\n"
     ]
    },
    {
     "name": "stdout",
     "output_type": "stream",
     "text": [
      "gene\n",
      "             node_id node_label   name                 id preferred_id\n",
      "0   hgnc.symbol:TERT       gene   TERT   hgnc.symbol:TERT           id\n",
      "1  hgnc.symbol:BGLAP       gene  BGLAP  hgnc.symbol:BGLAP           id\n",
      "2    hgnc.symbol:JUN       gene    JUN    hgnc.symbol:JUN           id\n",
      "3    hgnc.symbol:IL2       gene    IL2    hgnc.symbol:IL2           id\n",
      "4    hgnc.symbol:FAS       gene    FAS    hgnc.symbol:FAS           id\n",
      "transcription factor\n",
      "              node_id            node_label    name     category  \\\n",
      "0     hgnc.symbol:AP1  transcription factor     AP1  DNA-binding   \n",
      "1  hgnc.symbol:NFE2L3  transcription factor  NFE2L3  DNA-binding   \n",
      "2    hgnc.symbol:NFKB  transcription factor    NFKB  DNA-binding   \n",
      "3    hgnc.symbol:CARF  transcription factor    CARF  DNA-binding   \n",
      "4    hgnc.symbol:KAT7  transcription factor    KAT7  DNA-binding   \n",
      "\n",
      "                   id preferred_id  \n",
      "0     hgnc.symbol:AP1           id  \n",
      "1  hgnc.symbol:NFE2L3           id  \n",
      "2    hgnc.symbol:NFKB           id  \n",
      "3    hgnc.symbol:CARF           id  \n",
      "4    hgnc.symbol:KAT7           id  \n",
      "transcriptional regulation\n",
      "                    relationship_id          source_id          target_id  \\\n",
      "0  8dc30196226d1dfb959f4988d8a658fc    hgnc.symbol:MYC   hgnc.symbol:TERT   \n",
      "1  00fd69635655b1b187471df9c77a926d   hgnc.symbol:SPI1  hgnc.symbol:BGLAP   \n",
      "2  9b37555ec97aa56af2a934ebcd924fa7    hgnc.symbol:AP1    hgnc.symbol:JUN   \n",
      "3  210aaba9899cfb4039c6c766fa989a0f  hgnc.symbol:SMAD3    hgnc.symbol:JUN   \n",
      "4  b5623638744f345dd3b761af5ff7e3f3  hgnc.symbol:SMAD4    hgnc.symbol:JUN   \n",
      "\n",
      "           relationship_label activation_or_inhibition  \\\n",
      "0  transcriptional regulation               activation   \n",
      "1  transcriptional regulation               activation   \n",
      "2  transcriptional regulation               activation   \n",
      "3  transcriptional regulation               activation   \n",
      "4  transcriptional regulation               activation   \n",
      "\n",
      "                                           resources  \\\n",
      "0  ExTRI;HTRI;TRRUST;TFactS;NTNU.Curated;Pavlidis...   \n",
      "1                                              ExTRI   \n",
      "2                          ExTRI;TRRUST;NTNU.Curated   \n",
      "3                   ExTRI;TRRUST;TFactS;NTNU.Curated   \n",
      "4                   ExTRI;TRRUST;TFactS;NTNU.Curated   \n",
      "\n",
      "                                          references       sign_decision  \n",
      "0  10022128;10491298;10606235;10637317;10723141;1...                PMID  \n",
      "1                                           10022617  default activation  \n",
      "2  10022869;10037172;10208431;10366004;11281649;1...                PMID  \n",
      "3                                  10022869;12374795                PMID  \n",
      "4                                  10022869;12374795                PMID  \n"
     ]
    }
   ],
   "source": [
    "# ----------------------\n",
    "# Step 2: Load and configure adapter\n",
    "# ----------------------\n",
    "\n",
    "adapter = CollectriAdapter(paths[0])\n",
    "\n",
    "# ----------------------\n",
    "# Optional: For prototyping, we can use the Pandas functionality\n",
    "# ----------------------\n",
    "\n",
    "if RUN_OPTIONAL_STEPS:\n",
    "    bc.add(adapter.get_nodes())\n",
    "    bc.add(adapter.get_edges())\n",
    "    dfs = bc.to_df()\n",
    "    for name, df in dfs.items():\n",
    "        print(name)\n",
    "        print(df.head())\n",
    "\n",
    "    bc = BioCypher()\n",
    "    # Reset BioCypher, otherwise we would deduplicate all entities from previous\n",
    "    # run. This is not needed if this optional step is skipped/removed."
   ]
  },
  {
   "cell_type": "markdown",
   "metadata": {},
   "source": [
    "## 2. Get to know the data"
   ]
  },
  {
   "cell_type": "code",
   "execution_count": 6,
   "metadata": {},
   "outputs": [
    {
     "data": {
      "text/plain": [
       "dict_keys(['gene', 'transcription factor', 'transcriptional regulation'])"
      ]
     },
     "execution_count": 6,
     "metadata": {},
     "output_type": "execute_result"
    }
   ],
   "source": [
    "dfs.keys()"
   ]
  },
  {
   "cell_type": "code",
   "execution_count": 7,
   "metadata": {},
   "outputs": [
    {
     "data": {
      "text/html": [
       "<div>\n",
       "<style scoped>\n",
       "    .dataframe tbody tr th:only-of-type {\n",
       "        vertical-align: middle;\n",
       "    }\n",
       "\n",
       "    .dataframe tbody tr th {\n",
       "        vertical-align: top;\n",
       "    }\n",
       "\n",
       "    .dataframe thead th {\n",
       "        text-align: right;\n",
       "    }\n",
       "</style>\n",
       "<table border=\"1\" class=\"dataframe\">\n",
       "  <thead>\n",
       "    <tr style=\"text-align: right;\">\n",
       "      <th></th>\n",
       "      <th>node_id</th>\n",
       "      <th>node_label</th>\n",
       "      <th>name</th>\n",
       "      <th>id</th>\n",
       "      <th>preferred_id</th>\n",
       "    </tr>\n",
       "  </thead>\n",
       "  <tbody>\n",
       "    <tr>\n",
       "      <th>0</th>\n",
       "      <td>hgnc.symbol:TERT</td>\n",
       "      <td>gene</td>\n",
       "      <td>TERT</td>\n",
       "      <td>hgnc.symbol:TERT</td>\n",
       "      <td>id</td>\n",
       "    </tr>\n",
       "    <tr>\n",
       "      <th>1</th>\n",
       "      <td>hgnc.symbol:BGLAP</td>\n",
       "      <td>gene</td>\n",
       "      <td>BGLAP</td>\n",
       "      <td>hgnc.symbol:BGLAP</td>\n",
       "      <td>id</td>\n",
       "    </tr>\n",
       "    <tr>\n",
       "      <th>2</th>\n",
       "      <td>hgnc.symbol:JUN</td>\n",
       "      <td>gene</td>\n",
       "      <td>JUN</td>\n",
       "      <td>hgnc.symbol:JUN</td>\n",
       "      <td>id</td>\n",
       "    </tr>\n",
       "    <tr>\n",
       "      <th>3</th>\n",
       "      <td>hgnc.symbol:IL2</td>\n",
       "      <td>gene</td>\n",
       "      <td>IL2</td>\n",
       "      <td>hgnc.symbol:IL2</td>\n",
       "      <td>id</td>\n",
       "    </tr>\n",
       "    <tr>\n",
       "      <th>4</th>\n",
       "      <td>hgnc.symbol:FAS</td>\n",
       "      <td>gene</td>\n",
       "      <td>FAS</td>\n",
       "      <td>hgnc.symbol:FAS</td>\n",
       "      <td>id</td>\n",
       "    </tr>\n",
       "    <tr>\n",
       "      <th>...</th>\n",
       "      <td>...</td>\n",
       "      <td>...</td>\n",
       "      <td>...</td>\n",
       "      <td>...</td>\n",
       "      <td>...</td>\n",
       "    </tr>\n",
       "    <tr>\n",
       "      <th>6833</th>\n",
       "      <td>hgnc.symbol:SERF2</td>\n",
       "      <td>gene</td>\n",
       "      <td>SERF2</td>\n",
       "      <td>hgnc.symbol:SERF2</td>\n",
       "      <td>id</td>\n",
       "    </tr>\n",
       "    <tr>\n",
       "      <th>6834</th>\n",
       "      <td>hgnc.symbol:SCGB2A1</td>\n",
       "      <td>gene</td>\n",
       "      <td>SCGB2A1</td>\n",
       "      <td>hgnc.symbol:SCGB2A1</td>\n",
       "      <td>id</td>\n",
       "    </tr>\n",
       "    <tr>\n",
       "      <th>6835</th>\n",
       "      <td>hgnc.symbol:LCP2</td>\n",
       "      <td>gene</td>\n",
       "      <td>LCP2</td>\n",
       "      <td>hgnc.symbol:LCP2</td>\n",
       "      <td>id</td>\n",
       "    </tr>\n",
       "    <tr>\n",
       "      <th>6836</th>\n",
       "      <td>hgnc.symbol:PRR5L</td>\n",
       "      <td>gene</td>\n",
       "      <td>PRR5L</td>\n",
       "      <td>hgnc.symbol:PRR5L</td>\n",
       "      <td>id</td>\n",
       "    </tr>\n",
       "    <tr>\n",
       "      <th>6837</th>\n",
       "      <td>hgnc.symbol:NUP188</td>\n",
       "      <td>gene</td>\n",
       "      <td>NUP188</td>\n",
       "      <td>hgnc.symbol:NUP188</td>\n",
       "      <td>id</td>\n",
       "    </tr>\n",
       "  </tbody>\n",
       "</table>\n",
       "<p>6838 rows × 5 columns</p>\n",
       "</div>"
      ],
      "text/plain": [
       "                  node_id node_label     name                   id  \\\n",
       "0        hgnc.symbol:TERT       gene     TERT     hgnc.symbol:TERT   \n",
       "1       hgnc.symbol:BGLAP       gene    BGLAP    hgnc.symbol:BGLAP   \n",
       "2         hgnc.symbol:JUN       gene      JUN      hgnc.symbol:JUN   \n",
       "3         hgnc.symbol:IL2       gene      IL2      hgnc.symbol:IL2   \n",
       "4         hgnc.symbol:FAS       gene      FAS      hgnc.symbol:FAS   \n",
       "...                   ...        ...      ...                  ...   \n",
       "6833    hgnc.symbol:SERF2       gene    SERF2    hgnc.symbol:SERF2   \n",
       "6834  hgnc.symbol:SCGB2A1       gene  SCGB2A1  hgnc.symbol:SCGB2A1   \n",
       "6835     hgnc.symbol:LCP2       gene     LCP2     hgnc.symbol:LCP2   \n",
       "6836    hgnc.symbol:PRR5L       gene    PRR5L    hgnc.symbol:PRR5L   \n",
       "6837   hgnc.symbol:NUP188       gene   NUP188   hgnc.symbol:NUP188   \n",
       "\n",
       "     preferred_id  \n",
       "0              id  \n",
       "1              id  \n",
       "2              id  \n",
       "3              id  \n",
       "4              id  \n",
       "...           ...  \n",
       "6833           id  \n",
       "6834           id  \n",
       "6835           id  \n",
       "6836           id  \n",
       "6837           id  \n",
       "\n",
       "[6838 rows x 5 columns]"
      ]
     },
     "execution_count": 7,
     "metadata": {},
     "output_type": "execute_result"
    }
   ],
   "source": [
    "dfs[\"gene\"]"
   ]
  },
  {
   "cell_type": "code",
   "execution_count": 138,
   "metadata": {},
   "outputs": [
    {
     "data": {
      "text/html": [
       "<div>\n",
       "<style scoped>\n",
       "    .dataframe tbody tr th:only-of-type {\n",
       "        vertical-align: middle;\n",
       "    }\n",
       "\n",
       "    .dataframe tbody tr th {\n",
       "        vertical-align: top;\n",
       "    }\n",
       "\n",
       "    .dataframe thead th {\n",
       "        text-align: right;\n",
       "    }\n",
       "</style>\n",
       "<table border=\"1\" class=\"dataframe\">\n",
       "  <thead>\n",
       "    <tr style=\"text-align: right;\">\n",
       "      <th></th>\n",
       "      <th>node_label</th>\n",
       "      <th>name</th>\n",
       "      <th>category</th>\n",
       "      <th>id</th>\n",
       "      <th>preferred_id</th>\n",
       "    </tr>\n",
       "    <tr>\n",
       "      <th>node_id</th>\n",
       "      <th></th>\n",
       "      <th></th>\n",
       "      <th></th>\n",
       "      <th></th>\n",
       "      <th></th>\n",
       "    </tr>\n",
       "  </thead>\n",
       "  <tbody>\n",
       "    <tr>\n",
       "      <th>hgnc.symbol:AP1</th>\n",
       "      <td>transcription factor</td>\n",
       "      <td>AP1</td>\n",
       "      <td>DNA-binding</td>\n",
       "      <td>hgnc.symbol:AP1</td>\n",
       "      <td>id</td>\n",
       "    </tr>\n",
       "    <tr>\n",
       "      <th>hgnc.symbol:NFE2L3</th>\n",
       "      <td>transcription factor</td>\n",
       "      <td>NFE2L3</td>\n",
       "      <td>DNA-binding</td>\n",
       "      <td>hgnc.symbol:NFE2L3</td>\n",
       "      <td>id</td>\n",
       "    </tr>\n",
       "    <tr>\n",
       "      <th>hgnc.symbol:NFKB</th>\n",
       "      <td>transcription factor</td>\n",
       "      <td>NFKB</td>\n",
       "      <td>DNA-binding</td>\n",
       "      <td>hgnc.symbol:NFKB</td>\n",
       "      <td>id</td>\n",
       "    </tr>\n",
       "    <tr>\n",
       "      <th>hgnc.symbol:CARF</th>\n",
       "      <td>transcription factor</td>\n",
       "      <td>CARF</td>\n",
       "      <td>DNA-binding</td>\n",
       "      <td>hgnc.symbol:CARF</td>\n",
       "      <td>id</td>\n",
       "    </tr>\n",
       "    <tr>\n",
       "      <th>hgnc.symbol:KAT7</th>\n",
       "      <td>transcription factor</td>\n",
       "      <td>KAT7</td>\n",
       "      <td>DNA-binding</td>\n",
       "      <td>hgnc.symbol:KAT7</td>\n",
       "      <td>id</td>\n",
       "    </tr>\n",
       "    <tr>\n",
       "      <th>...</th>\n",
       "      <td>...</td>\n",
       "      <td>...</td>\n",
       "      <td>...</td>\n",
       "      <td>...</td>\n",
       "      <td>...</td>\n",
       "    </tr>\n",
       "    <tr>\n",
       "      <th>hgnc.symbol:ZSCAN21</th>\n",
       "      <td>transcription factor</td>\n",
       "      <td>ZSCAN21</td>\n",
       "      <td>DNA-binding</td>\n",
       "      <td>hgnc.symbol:ZSCAN21</td>\n",
       "      <td>id</td>\n",
       "    </tr>\n",
       "    <tr>\n",
       "      <th>hgnc.symbol:RYBP</th>\n",
       "      <td>transcription factor</td>\n",
       "      <td>RYBP</td>\n",
       "      <td>co-regulatory</td>\n",
       "      <td>hgnc.symbol:RYBP</td>\n",
       "      <td>id</td>\n",
       "    </tr>\n",
       "    <tr>\n",
       "      <th>hgnc.symbol:TRIM24</th>\n",
       "      <td>transcription factor</td>\n",
       "      <td>TRIM24</td>\n",
       "      <td>co-regulatory</td>\n",
       "      <td>hgnc.symbol:TRIM24</td>\n",
       "      <td>id</td>\n",
       "    </tr>\n",
       "    <tr>\n",
       "      <th>hgnc.symbol:ZBTB8A</th>\n",
       "      <td>transcription factor</td>\n",
       "      <td>ZBTB8A</td>\n",
       "      <td>DNA-binding</td>\n",
       "      <td>hgnc.symbol:ZBTB8A</td>\n",
       "      <td>id</td>\n",
       "    </tr>\n",
       "    <tr>\n",
       "      <th>hgnc.symbol:HES4</th>\n",
       "      <td>transcription factor</td>\n",
       "      <td>HES4</td>\n",
       "      <td>DNA-binding</td>\n",
       "      <td>hgnc.symbol:HES4</td>\n",
       "      <td>id</td>\n",
       "    </tr>\n",
       "  </tbody>\n",
       "</table>\n",
       "<p>267 rows × 5 columns</p>\n",
       "</div>"
      ],
      "text/plain": [
       "                               node_label     name       category  \\\n",
       "node_id                                                             \n",
       "hgnc.symbol:AP1      transcription factor      AP1    DNA-binding   \n",
       "hgnc.symbol:NFE2L3   transcription factor   NFE2L3    DNA-binding   \n",
       "hgnc.symbol:NFKB     transcription factor     NFKB    DNA-binding   \n",
       "hgnc.symbol:CARF     transcription factor     CARF    DNA-binding   \n",
       "hgnc.symbol:KAT7     transcription factor     KAT7    DNA-binding   \n",
       "...                                   ...      ...            ...   \n",
       "hgnc.symbol:ZSCAN21  transcription factor  ZSCAN21    DNA-binding   \n",
       "hgnc.symbol:RYBP     transcription factor     RYBP  co-regulatory   \n",
       "hgnc.symbol:TRIM24   transcription factor   TRIM24  co-regulatory   \n",
       "hgnc.symbol:ZBTB8A   transcription factor   ZBTB8A    DNA-binding   \n",
       "hgnc.symbol:HES4     transcription factor     HES4    DNA-binding   \n",
       "\n",
       "                                      id preferred_id  \n",
       "node_id                                                \n",
       "hgnc.symbol:AP1          hgnc.symbol:AP1           id  \n",
       "hgnc.symbol:NFE2L3    hgnc.symbol:NFE2L3           id  \n",
       "hgnc.symbol:NFKB        hgnc.symbol:NFKB           id  \n",
       "hgnc.symbol:CARF        hgnc.symbol:CARF           id  \n",
       "hgnc.symbol:KAT7        hgnc.symbol:KAT7           id  \n",
       "...                                  ...          ...  \n",
       "hgnc.symbol:ZSCAN21  hgnc.symbol:ZSCAN21           id  \n",
       "hgnc.symbol:RYBP        hgnc.symbol:RYBP           id  \n",
       "hgnc.symbol:TRIM24    hgnc.symbol:TRIM24           id  \n",
       "hgnc.symbol:ZBTB8A    hgnc.symbol:ZBTB8A           id  \n",
       "hgnc.symbol:HES4        hgnc.symbol:HES4           id  \n",
       "\n",
       "[267 rows x 5 columns]"
      ]
     },
     "execution_count": 138,
     "metadata": {},
     "output_type": "execute_result"
    }
   ],
   "source": [
    "dfs[\"transcription factor\"]"
   ]
  },
  {
   "cell_type": "code",
   "execution_count": 9,
   "metadata": {},
   "outputs": [
    {
     "data": {
      "text/plain": [
       "True"
      ]
     },
     "execution_count": 9,
     "metadata": {},
     "output_type": "execute_result"
    }
   ],
   "source": [
    "# Check if all items in list(dfs[\"transcriptional regulation\"][\"target_id\"]) are part of dfs[\"transcription factor\"][\"node_id\"]\n",
    "all(\n",
    "    dfs[\"transcriptional regulation\"][\"target_id\"].isin(dfs[\"gene\"][\"node_id\"])\n",
    ")"
   ]
  },
  {
   "cell_type": "code",
   "execution_count": 10,
   "metadata": {},
   "outputs": [
    {
     "data": {
      "text/plain": [
       "False"
      ]
     },
     "execution_count": 10,
     "metadata": {},
     "output_type": "execute_result"
    }
   ],
   "source": [
    "all(\n",
    "    dfs[\"transcriptional regulation\"][\"target_id\"].isin(dfs[\"transcription factor\"][\"node_id\"])\n",
    ")"
   ]
  },
  {
   "cell_type": "code",
   "execution_count": 11,
   "metadata": {},
   "outputs": [
    {
     "data": {
      "text/plain": [
       "False"
      ]
     },
     "execution_count": 11,
     "metadata": {},
     "output_type": "execute_result"
    }
   ],
   "source": [
    "all(\n",
    "    dfs[\"transcriptional regulation\"][\"source_id\"].isin(dfs[\"gene\"][\"node_id\"])\n",
    ")"
   ]
  },
  {
   "cell_type": "code",
   "execution_count": 12,
   "metadata": {},
   "outputs": [
    {
     "data": {
      "text/plain": [
       "source_id\n",
       "False    40522\n",
       "True      3014\n",
       "Name: count, dtype: int64"
      ]
     },
     "execution_count": 12,
     "metadata": {},
     "output_type": "execute_result"
    }
   ],
   "source": [
    "dfs[\"transcriptional regulation\"][\"source_id\"].isin(dfs[\"transcription factor\"][\"node_id\"]).value_counts()"
   ]
  },
  {
   "cell_type": "code",
   "execution_count": 140,
   "metadata": {},
   "outputs": [
    {
     "data": {
      "text/html": [
       "<div>\n",
       "<style scoped>\n",
       "    .dataframe tbody tr th:only-of-type {\n",
       "        vertical-align: middle;\n",
       "    }\n",
       "\n",
       "    .dataframe tbody tr th {\n",
       "        vertical-align: top;\n",
       "    }\n",
       "\n",
       "    .dataframe thead th {\n",
       "        text-align: right;\n",
       "    }\n",
       "</style>\n",
       "<table border=\"1\" class=\"dataframe\">\n",
       "  <thead>\n",
       "    <tr style=\"text-align: right;\">\n",
       "      <th></th>\n",
       "      <th>relationship_id</th>\n",
       "      <th>source_id</th>\n",
       "      <th>target_id</th>\n",
       "      <th>relationship_label</th>\n",
       "      <th>activation_or_inhibition</th>\n",
       "      <th>resources</th>\n",
       "      <th>references</th>\n",
       "      <th>sign_decision</th>\n",
       "    </tr>\n",
       "  </thead>\n",
       "  <tbody>\n",
       "    <tr>\n",
       "      <th>0</th>\n",
       "      <td>8dc30196226d1dfb959f4988d8a658fc</td>\n",
       "      <td>hgnc.symbol:MYC</td>\n",
       "      <td>hgnc.symbol:TERT</td>\n",
       "      <td>transcriptional regulation</td>\n",
       "      <td>activation</td>\n",
       "      <td>ExTRI;HTRI;TRRUST;TFactS;NTNU.Curated;Pavlidis...</td>\n",
       "      <td>10022128;10491298;10606235;10637317;10723141;1...</td>\n",
       "      <td>PMID</td>\n",
       "    </tr>\n",
       "    <tr>\n",
       "      <th>1</th>\n",
       "      <td>00fd69635655b1b187471df9c77a926d</td>\n",
       "      <td>hgnc.symbol:SPI1</td>\n",
       "      <td>hgnc.symbol:BGLAP</td>\n",
       "      <td>transcriptional regulation</td>\n",
       "      <td>activation</td>\n",
       "      <td>ExTRI</td>\n",
       "      <td>10022617</td>\n",
       "      <td>default activation</td>\n",
       "    </tr>\n",
       "    <tr>\n",
       "      <th>2</th>\n",
       "      <td>9b37555ec97aa56af2a934ebcd924fa7</td>\n",
       "      <td>hgnc.symbol:AP1</td>\n",
       "      <td>hgnc.symbol:JUN</td>\n",
       "      <td>transcriptional regulation</td>\n",
       "      <td>activation</td>\n",
       "      <td>ExTRI;TRRUST;NTNU.Curated</td>\n",
       "      <td>10022869;10037172;10208431;10366004;11281649;1...</td>\n",
       "      <td>PMID</td>\n",
       "    </tr>\n",
       "    <tr>\n",
       "      <th>3</th>\n",
       "      <td>210aaba9899cfb4039c6c766fa989a0f</td>\n",
       "      <td>hgnc.symbol:SMAD3</td>\n",
       "      <td>hgnc.symbol:JUN</td>\n",
       "      <td>transcriptional regulation</td>\n",
       "      <td>activation</td>\n",
       "      <td>ExTRI;TRRUST;TFactS;NTNU.Curated</td>\n",
       "      <td>10022869;12374795</td>\n",
       "      <td>PMID</td>\n",
       "    </tr>\n",
       "    <tr>\n",
       "      <th>4</th>\n",
       "      <td>b5623638744f345dd3b761af5ff7e3f3</td>\n",
       "      <td>hgnc.symbol:SMAD4</td>\n",
       "      <td>hgnc.symbol:JUN</td>\n",
       "      <td>transcriptional regulation</td>\n",
       "      <td>activation</td>\n",
       "      <td>ExTRI;TRRUST;TFactS;NTNU.Curated</td>\n",
       "      <td>10022869;12374795</td>\n",
       "      <td>PMID</td>\n",
       "    </tr>\n",
       "    <tr>\n",
       "      <th>...</th>\n",
       "      <td>...</td>\n",
       "      <td>...</td>\n",
       "      <td>...</td>\n",
       "      <td>...</td>\n",
       "      <td>...</td>\n",
       "      <td>...</td>\n",
       "      <td>...</td>\n",
       "      <td>...</td>\n",
       "    </tr>\n",
       "    <tr>\n",
       "      <th>43531</th>\n",
       "      <td>1c409356d62c61874f1237330a2042d8</td>\n",
       "      <td>hgnc.symbol:RUNX1</td>\n",
       "      <td>hgnc.symbol:LCP2</td>\n",
       "      <td>transcriptional regulation</td>\n",
       "      <td>activation</td>\n",
       "      <td>DoRothEA_A</td>\n",
       "      <td>20019798</td>\n",
       "      <td>default activation</td>\n",
       "    </tr>\n",
       "    <tr>\n",
       "      <th>43532</th>\n",
       "      <td>1b145e69c23d3bcbe5304e4f7d3a1d3f</td>\n",
       "      <td>hgnc.symbol:RUNX1</td>\n",
       "      <td>hgnc.symbol:PRR5L</td>\n",
       "      <td>transcriptional regulation</td>\n",
       "      <td>activation</td>\n",
       "      <td>DoRothEA_A</td>\n",
       "      <td>20019798</td>\n",
       "      <td>default activation</td>\n",
       "    </tr>\n",
       "    <tr>\n",
       "      <th>43533</th>\n",
       "      <td>d27ff2d0a72c9bba4b5d283ee03a9107</td>\n",
       "      <td>hgnc.symbol:TWIST1</td>\n",
       "      <td>hgnc.symbol:GLI1</td>\n",
       "      <td>transcriptional regulation</td>\n",
       "      <td>activation</td>\n",
       "      <td>DoRothEA_A</td>\n",
       "      <td>11948912</td>\n",
       "      <td>default activation</td>\n",
       "    </tr>\n",
       "    <tr>\n",
       "      <th>43534</th>\n",
       "      <td>5fd615bfb0243e7864df711928d645b2</td>\n",
       "      <td>hgnc.symbol:USF1</td>\n",
       "      <td>hgnc.symbol:NUP188</td>\n",
       "      <td>transcriptional regulation</td>\n",
       "      <td>activation</td>\n",
       "      <td>DoRothEA_A</td>\n",
       "      <td>22951020</td>\n",
       "      <td>PMID</td>\n",
       "    </tr>\n",
       "    <tr>\n",
       "      <th>43535</th>\n",
       "      <td>a3df8c69c852bde3b919cbe3a96a7fa7</td>\n",
       "      <td>hgnc.symbol:ZNF148</td>\n",
       "      <td>hgnc.symbol:RNLS</td>\n",
       "      <td>transcriptional regulation</td>\n",
       "      <td>activation</td>\n",
       "      <td>DoRothEA_A</td>\n",
       "      <td>25295465</td>\n",
       "      <td>PMID</td>\n",
       "    </tr>\n",
       "  </tbody>\n",
       "</table>\n",
       "<p>43536 rows × 8 columns</p>\n",
       "</div>"
      ],
      "text/plain": [
       "                        relationship_id           source_id  \\\n",
       "0      8dc30196226d1dfb959f4988d8a658fc     hgnc.symbol:MYC   \n",
       "1      00fd69635655b1b187471df9c77a926d    hgnc.symbol:SPI1   \n",
       "2      9b37555ec97aa56af2a934ebcd924fa7     hgnc.symbol:AP1   \n",
       "3      210aaba9899cfb4039c6c766fa989a0f   hgnc.symbol:SMAD3   \n",
       "4      b5623638744f345dd3b761af5ff7e3f3   hgnc.symbol:SMAD4   \n",
       "...                                 ...                 ...   \n",
       "43531  1c409356d62c61874f1237330a2042d8   hgnc.symbol:RUNX1   \n",
       "43532  1b145e69c23d3bcbe5304e4f7d3a1d3f   hgnc.symbol:RUNX1   \n",
       "43533  d27ff2d0a72c9bba4b5d283ee03a9107  hgnc.symbol:TWIST1   \n",
       "43534  5fd615bfb0243e7864df711928d645b2    hgnc.symbol:USF1   \n",
       "43535  a3df8c69c852bde3b919cbe3a96a7fa7  hgnc.symbol:ZNF148   \n",
       "\n",
       "                target_id          relationship_label  \\\n",
       "0        hgnc.symbol:TERT  transcriptional regulation   \n",
       "1       hgnc.symbol:BGLAP  transcriptional regulation   \n",
       "2         hgnc.symbol:JUN  transcriptional regulation   \n",
       "3         hgnc.symbol:JUN  transcriptional regulation   \n",
       "4         hgnc.symbol:JUN  transcriptional regulation   \n",
       "...                   ...                         ...   \n",
       "43531    hgnc.symbol:LCP2  transcriptional regulation   \n",
       "43532   hgnc.symbol:PRR5L  transcriptional regulation   \n",
       "43533    hgnc.symbol:GLI1  transcriptional regulation   \n",
       "43534  hgnc.symbol:NUP188  transcriptional regulation   \n",
       "43535    hgnc.symbol:RNLS  transcriptional regulation   \n",
       "\n",
       "      activation_or_inhibition  \\\n",
       "0                   activation   \n",
       "1                   activation   \n",
       "2                   activation   \n",
       "3                   activation   \n",
       "4                   activation   \n",
       "...                        ...   \n",
       "43531               activation   \n",
       "43532               activation   \n",
       "43533               activation   \n",
       "43534               activation   \n",
       "43535               activation   \n",
       "\n",
       "                                               resources  \\\n",
       "0      ExTRI;HTRI;TRRUST;TFactS;NTNU.Curated;Pavlidis...   \n",
       "1                                                  ExTRI   \n",
       "2                              ExTRI;TRRUST;NTNU.Curated   \n",
       "3                       ExTRI;TRRUST;TFactS;NTNU.Curated   \n",
       "4                       ExTRI;TRRUST;TFactS;NTNU.Curated   \n",
       "...                                                  ...   \n",
       "43531                                         DoRothEA_A   \n",
       "43532                                         DoRothEA_A   \n",
       "43533                                         DoRothEA_A   \n",
       "43534                                         DoRothEA_A   \n",
       "43535                                         DoRothEA_A   \n",
       "\n",
       "                                              references       sign_decision  \n",
       "0      10022128;10491298;10606235;10637317;10723141;1...                PMID  \n",
       "1                                               10022617  default activation  \n",
       "2      10022869;10037172;10208431;10366004;11281649;1...                PMID  \n",
       "3                                      10022869;12374795                PMID  \n",
       "4                                      10022869;12374795                PMID  \n",
       "...                                                  ...                 ...  \n",
       "43531                                           20019798  default activation  \n",
       "43532                                           20019798  default activation  \n",
       "43533                                           11948912  default activation  \n",
       "43534                                           22951020                PMID  \n",
       "43535                                           25295465                PMID  \n",
       "\n",
       "[43536 rows x 8 columns]"
      ]
     },
     "execution_count": 140,
     "metadata": {},
     "output_type": "execute_result"
    }
   ],
   "source": [
    "dfs[\"transcriptional regulation\"]"
   ]
  },
  {
   "cell_type": "code",
   "execution_count": 15,
   "metadata": {},
   "outputs": [
    {
     "data": {
      "text/plain": [
       "sign_decision\n",
       "default activation    21995\n",
       "PMID                  19616\n",
       "regulon                1925\n",
       "Name: count, dtype: int64"
      ]
     },
     "execution_count": 15,
     "metadata": {},
     "output_type": "execute_result"
    }
   ],
   "source": [
    "dfs[\"transcriptional regulation\"][\"sign_decision\"].value_counts()"
   ]
  },
  {
   "cell_type": "markdown",
   "metadata": {},
   "source": [
    "## 3. Create a PyG HeteroData object from the BioCypher KG"
   ]
  },
  {
   "cell_type": "code",
   "execution_count": 16,
   "metadata": {},
   "outputs": [],
   "source": [
    "import os.path as osp\n",
    "\n",
    "import pandas as pd\n",
    "import torch\n",
    "from sentence_transformers import SentenceTransformer\n",
    "\n",
    "from torch_geometric.data import HeteroData, download_url, extract_zip\n",
    "from torch_geometric.transforms import RandomLinkSplit, ToUndirected"
   ]
  },
  {
   "cell_type": "code",
   "execution_count": 17,
   "metadata": {},
   "outputs": [],
   "source": [
    "def load_node_csv(path, index_col, encoders=None, **kwargs):\n",
    "    df = path # pd.read_csv(path, index_col=index_col, **kwargs)\n",
    "    print(df.columns)\n",
    "    df.set_index(index_col, inplace=True)\n",
    "    mapping = {index: i for i, index in enumerate(df.index.unique())}\n",
    "\n",
    "    x = None\n",
    "    if encoders is not None:\n",
    "        xs = [encoder(df[col]) for col, encoder in encoders.items()]\n",
    "        x = torch.cat(xs, dim=-1)\n",
    "\n",
    "    return x, mapping\n",
    "\n",
    "\n",
    "def load_edge_csv(path, src_index_col, src_mapping, dst_index_col, dst_mapping,\n",
    "                  encoders=None, **kwargs):\n",
    "    df = path # pd.read_csv(path, **kwargs)\n",
    "\n",
    "    src = [src_mapping[index] for index in df[src_index_col]]\n",
    "    dst = [dst_mapping[index] for index in df[dst_index_col]]\n",
    "    edge_index = torch.tensor([src, dst])\n",
    "\n",
    "    edge_attr = None\n",
    "    if encoders is not None:\n",
    "        edge_attrs = [encoder(df[col]) for col, encoder in encoders.items()]\n",
    "        edge_attr = torch.cat(edge_attrs, dim=-1)\n",
    "\n",
    "    return edge_index, edge_attr"
   ]
  },
  {
   "cell_type": "code",
   "execution_count": 18,
   "metadata": {},
   "outputs": [],
   "source": [
    "class SequenceEncoder:\n",
    "    # The 'SequenceEncoder' encodes raw column strings into embeddings.\n",
    "    def __init__(self, model_name='all-MiniLM-L6-v2', device=None):\n",
    "        self.device = device\n",
    "        self.model = SentenceTransformer(model_name, device=device)\n",
    "\n",
    "    @torch.no_grad()\n",
    "    def __call__(self, df):\n",
    "        x = self.model.encode(df.values, show_progress_bar=True,\n",
    "                              convert_to_tensor=True, device=self.device)\n",
    "        return x.cpu()\n",
    "\n",
    "\n",
    "class GenresEncoder:\n",
    "    # The 'GenreEncoder' splits the raw column strings by 'sep' and converts\n",
    "    # individual elements to categorical labels.\n",
    "    def __init__(self, sep='|'):\n",
    "        self.sep = sep\n",
    "\n",
    "    def __call__(self, df):\n",
    "        genres = set(g for col in df.values for g in col.split(self.sep))\n",
    "        mapping = {genre: i for i, genre in enumerate(genres)}\n",
    "\n",
    "        x = torch.zeros(len(df), len(mapping))\n",
    "        for i, col in enumerate(df.values):\n",
    "            for genre in col.split(self.sep):\n",
    "                x[i, mapping[genre]] = 1\n",
    "        return x\n",
    "\n",
    "\n",
    "class IdentityEncoder:\n",
    "    # The 'IdentityEncoder' takes the raw column values and converts them to\n",
    "    # PyTorch tensors.\n",
    "    def __init__(self, dtype=None):\n",
    "        self.dtype = dtype\n",
    "\n",
    "    def __call__(self, df):\n",
    "        return torch.from_numpy(df.values).view(-1, 1).to(self.dtype)\n",
    "\n",
    "class BinaryEncoder: # TODO: better name and generalizable\n",
    "    # The 'IdentityEncoder' takes the raw column values and converts them to\n",
    "    # PyTorch tensors.\n",
    "    def __init__(self, dtype=None):\n",
    "        self.dtype = dtype\n",
    "\n",
    "    def __call__(self, df):\n",
    "        #rename activation to 1 and inhibition to -1 in df\n",
    "        df = df.replace(\"activation\", 1)\n",
    "        df = df.replace(\"inhibition\", -1)\n",
    "        return torch.from_numpy(df.values).view(-1, 1).to(self.dtype)"
   ]
  },
  {
   "cell_type": "code",
   "execution_count": 19,
   "metadata": {},
   "outputs": [],
   "source": [
    "from torch_geometric.data import HeteroData\n",
    "\n",
    "data = HeteroData()"
   ]
  },
  {
   "cell_type": "code",
   "execution_count": 20,
   "metadata": {},
   "outputs": [
    {
     "name": "stdout",
     "output_type": "stream",
     "text": [
      "Index(['node_id', 'node_label', 'name', 'id', 'preferred_id'], dtype='object')\n",
      "Index(['node_id', 'node_label', 'name', 'category', 'id', 'preferred_id'], dtype='object')\n"
     ]
    }
   ],
   "source": [
    "nodes = [\"gene\", \"transcription factor\"]\n",
    "all_nodes_mapping = {}\n",
    "\n",
    "for node in nodes:\n",
    "    node_features_x, node_mapping = load_node_csv(dfs[node], index_col='node_id')\n",
    "    data[node].x = node_features_x\n",
    "    data[node].num_nodes = len(node_mapping)\n",
    "    all_nodes_mapping.update(node_mapping)"
   ]
  },
  {
   "cell_type": "code",
   "execution_count": 21,
   "metadata": {},
   "outputs": [
    {
     "data": {
      "text/plain": [
       "HeteroData(\n",
       "  gene={ num_nodes=6838 },\n",
       "  transcription factor={ num_nodes=267 }\n",
       ")"
      ]
     },
     "execution_count": 21,
     "metadata": {},
     "output_type": "execute_result"
    }
   ],
   "source": [
    "data"
   ]
  },
  {
   "cell_type": "code",
   "execution_count": 67,
   "metadata": {},
   "outputs": [
    {
     "data": {
      "text/plain": [
       "7105"
      ]
     },
     "execution_count": 67,
     "metadata": {},
     "output_type": "execute_result"
    }
   ],
   "source": [
    "all_nodes_mapping"
   ]
  },
  {
   "cell_type": "code",
   "execution_count": 23,
   "metadata": {},
   "outputs": [
    {
     "name": "stderr",
     "output_type": "stream",
     "text": [
      "/tmp/ipykernel_68852/2702739675.py:49: FutureWarning: Downcasting behavior in `replace` is deprecated and will be removed in a future version. To retain the old behavior, explicitly call `result.infer_objects(copy=False)`. To opt-in to the future behavior, set `pd.set_option('future.no_silent_downcasting', True)`\n",
      "  df = df.replace(\"inhibition\", -1)\n"
     ]
    },
    {
     "name": "stdout",
     "output_type": "stream",
     "text": [
      "torch.Size([2, 43536])\n",
      "torch.Size([43536, 1])\n",
      "torch.Size([3014])\n"
     ]
    }
   ],
   "source": [
    "edges = [\"transcriptional regulation\"]\n",
    "\n",
    "for edge in edges:\n",
    "    edge_index, edge_label = load_edge_csv(\n",
    "        dfs[edge],\n",
    "        src_index_col='source_id',\n",
    "        src_mapping=all_nodes_mapping,\n",
    "        dst_index_col='target_id',\n",
    "        dst_mapping=all_nodes_mapping,\n",
    "        encoders={'activation_or_inhibition': BinaryEncoder(dtype=torch.long)},\n",
    "    )\n",
    "    tf_to_gene_mask = dfs[\"transcriptional regulation\"][\"source_id\"].isin(dfs[\"transcription factor\"].index) #[\"node_id\"])\n",
    "    \n",
    "    #print(tf_to_gene_mask.size())\n",
    "    print(edge_index.size())\n",
    "    #print(edge_index[:, tf_to_gene_mask].size())\n",
    "    #print(edge_index[:, ~tf_to_gene_mask].size())\n",
    "    print(edge_label.size())\n",
    "    print(edge_label[tf_to_gene_mask].reshape(-1).size())\n",
    "\n",
    "    # in case of edge prediction we need to set the edge_label\n",
    "    # TODO: also set edge_attr based on edge_features\n",
    "\n",
    "    data['transcription factor', edge, 'gene'].edge_index = edge_index[:, tf_to_gene_mask]\n",
    "    data['transcription factor', edge, 'gene'].edge_label = edge_label[tf_to_gene_mask].reshape(-1)\n",
    "    data['gene', edge, 'gene'].edge_index = edge_index[:, ~tf_to_gene_mask]\n",
    "    data['gene', edge, 'gene'].edge_label = edge_label[~tf_to_gene_mask].reshape(-1)"
   ]
  },
  {
   "cell_type": "code",
   "execution_count": 24,
   "metadata": {},
   "outputs": [
    {
     "data": {
      "text/plain": [
       "HeteroData(\n",
       "  gene={ num_nodes=6838 },\n",
       "  transcription factor={ num_nodes=267 },\n",
       "  (transcription factor, transcriptional regulation, gene)={\n",
       "    edge_index=[2, 3014],\n",
       "    edge_label=[3014],\n",
       "  },\n",
       "  (gene, transcriptional regulation, gene)={\n",
       "    edge_index=[2, 40522],\n",
       "    edge_label=[40522],\n",
       "  }\n",
       ")"
      ]
     },
     "execution_count": 24,
     "metadata": {},
     "output_type": "execute_result"
    }
   ],
   "source": [
    "data"
   ]
  },
  {
   "cell_type": "code",
   "execution_count": 25,
   "metadata": {},
   "outputs": [],
   "source": [
    "# TODO: generalize encoders\n",
    "# TODO: dynamic source/target node names (set names in data['transcription factor', edge, 'gene'] automatically)"
   ]
  },
  {
   "cell_type": "code",
   "execution_count": 26,
   "metadata": {},
   "outputs": [
    {
     "name": "stdout",
     "output_type": "stream",
     "text": [
      "torch.Size([2, 3014])\n",
      "torch.Size([2, 40522])\n"
     ]
    }
   ],
   "source": [
    "for edge in data.edge_types:\n",
    "    print(data[edge].edge_index.size())"
   ]
  },
  {
   "cell_type": "code",
   "execution_count": 27,
   "metadata": {},
   "outputs": [],
   "source": [
    "# 1. Add a reverse ('movie', 'rev_rates', 'user') relation for message passing.\n",
    "data = ToUndirected()(data)\n",
    "# del data['gene', 'rev_transcriptional regulation', 'gene'].edge_label  # Remove \"reverse\" label."
   ]
  },
  {
   "cell_type": "code",
   "execution_count": 28,
   "metadata": {},
   "outputs": [
    {
     "data": {
      "text/plain": [
       "HeteroData(\n",
       "  gene={ num_nodes=6838 },\n",
       "  transcription factor={ num_nodes=267 },\n",
       "  (transcription factor, transcriptional regulation, gene)={\n",
       "    edge_index=[2, 3014],\n",
       "    edge_label=[3014],\n",
       "  },\n",
       "  (gene, transcriptional regulation, gene)={\n",
       "    edge_index=[2, 78912],\n",
       "    edge_label=[78912],\n",
       "  },\n",
       "  (gene, rev_transcriptional regulation, transcription factor)={\n",
       "    edge_index=[2, 3014],\n",
       "    edge_label=[3014],\n",
       "  }\n",
       ")"
      ]
     },
     "execution_count": 28,
     "metadata": {},
     "output_type": "execute_result"
    }
   ],
   "source": [
    "data"
   ]
  },
  {
   "cell_type": "markdown",
   "metadata": {},
   "source": [
    "### => all from the start of section 3. to this cell could potentially be part of the BioCypher PyG HeteroData output adapter "
   ]
  },
  {
   "cell_type": "markdown",
   "metadata": {},
   "source": [
    "### 4. Prepare the data (task specific: here add dummy node features; split the edges for link prediction)"
   ]
  },
  {
   "cell_type": "code",
   "execution_count": 29,
   "metadata": {},
   "outputs": [],
   "source": [
    "# initalize node embeddings with dummy ones\n",
    "for node_type in data.node_types:\n",
    "    data[node_type].x = torch.ones(data[node_type].num_nodes, 1)"
   ]
  },
  {
   "cell_type": "code",
   "execution_count": 30,
   "metadata": {},
   "outputs": [
    {
     "data": {
      "text/plain": [
       "True"
      ]
     },
     "execution_count": 30,
     "metadata": {},
     "output_type": "execute_result"
    }
   ],
   "source": [
    "data.validate()"
   ]
  },
  {
   "cell_type": "code",
   "execution_count": 31,
   "metadata": {},
   "outputs": [
    {
     "name": "stdout",
     "output_type": "stream",
     "text": [
      "HeteroData(\n",
      "  gene={\n",
      "    num_nodes=6838,\n",
      "    x=[6838, 1],\n",
      "  },\n",
      "  transcription factor={\n",
      "    num_nodes=267,\n",
      "    x=[267, 1],\n",
      "  },\n",
      "  (transcription factor, transcriptional regulation, gene)={\n",
      "    edge_index=[2, 2563],\n",
      "    edge_label=[2563],\n",
      "    edge_label_index=[2, 2563],\n",
      "  },\n",
      "  (gene, transcriptional regulation, gene)={\n",
      "    edge_index=[2, 78912],\n",
      "    edge_label=[78912],\n",
      "  },\n",
      "  (gene, rev_transcriptional regulation, transcription factor)={\n",
      "    edge_index=[2, 2563],\n",
      "    edge_label=[2563],\n",
      "  }\n",
      ")\n",
      "HeteroData(\n",
      "  gene={\n",
      "    num_nodes=6838,\n",
      "    x=[6838, 1],\n",
      "  },\n",
      "  transcription factor={\n",
      "    num_nodes=267,\n",
      "    x=[267, 1],\n",
      "  },\n",
      "  (transcription factor, transcriptional regulation, gene)={\n",
      "    edge_index=[2, 2563],\n",
      "    edge_label=[150],\n",
      "    edge_label_index=[2, 150],\n",
      "  },\n",
      "  (gene, transcriptional regulation, gene)={\n",
      "    edge_index=[2, 78912],\n",
      "    edge_label=[78912],\n",
      "  },\n",
      "  (gene, rev_transcriptional regulation, transcription factor)={\n",
      "    edge_index=[2, 2563],\n",
      "    edge_label=[2563],\n",
      "  }\n",
      ")\n",
      "HeteroData(\n",
      "  gene={\n",
      "    num_nodes=6838,\n",
      "    x=[6838, 1],\n",
      "  },\n",
      "  transcription factor={\n",
      "    num_nodes=267,\n",
      "    x=[267, 1],\n",
      "  },\n",
      "  (transcription factor, transcriptional regulation, gene)={\n",
      "    edge_index=[2, 2713],\n",
      "    edge_label=[301],\n",
      "    edge_label_index=[2, 301],\n",
      "  },\n",
      "  (gene, transcriptional regulation, gene)={\n",
      "    edge_index=[2, 78912],\n",
      "    edge_label=[78912],\n",
      "  },\n",
      "  (gene, rev_transcriptional regulation, transcription factor)={\n",
      "    edge_index=[2, 2713],\n",
      "    edge_label=[2713],\n",
      "  }\n",
      ")\n"
     ]
    }
   ],
   "source": [
    "# 2. Perform a link-level split into training, validation, and test edges.\n",
    "# TODO: adapt edges manually some missing at the moment\n",
    "transform = RandomLinkSplit(\n",
    "    num_val=0.05,\n",
    "    num_test=0.1,\n",
    "    neg_sampling_ratio=0.0,\n",
    "    edge_types=[('transcription factor', 'transcriptional regulation', 'gene')],\n",
    "    rev_edge_types=[('gene', 'rev_transcriptional regulation', 'transcription factor')],\n",
    ")\n",
    "train_data, val_data, test_data = transform(data)\n",
    "print(train_data)\n",
    "print(val_data)\n",
    "print(test_data)"
   ]
  },
  {
   "cell_type": "markdown",
   "metadata": {},
   "source": [
    "### 5. Setup the GNN model for link prediction"
   ]
  },
  {
   "cell_type": "code",
   "execution_count": 32,
   "metadata": {},
   "outputs": [],
   "source": [
    "import torch.nn as nn\n",
    "import torch.optim as optim\n",
    "from torch_geometric.nn import MessagePassing, GCNConv, HeteroConv, GraphConv, Linear, SAGEConv, to_hetero\n",
    "import torch.nn.functional as F\n",
    "from torch import Tensor"
   ]
  },
  {
   "cell_type": "code",
   "execution_count": 37,
   "metadata": {},
   "outputs": [],
   "source": [
    "class GNNEncoder(torch.nn.Module):\n",
    "    def __init__(self, hidden_channels, out_channels):\n",
    "        super().__init__()\n",
    "        self.conv1 = SAGEConv((-1, -1), hidden_channels)\n",
    "        self.conv2 = SAGEConv((-1, -1), out_channels)\n",
    "\n",
    "    def forward(self, x, edge_index):\n",
    "        x = self.conv1(x, edge_index).relu()\n",
    "        x = self.conv2(x, edge_index)\n",
    "        return x \n",
    "\n",
    "class EdgeDecoder(torch.nn.Module):\n",
    "    def __init__(self, hidden_channels):\n",
    "        super().__init__()\n",
    "        self.lin1 = Linear(2 * hidden_channels, hidden_channels)\n",
    "        self.lin2 = Linear(hidden_channels, 1)\n",
    "\n",
    "    def forward(self, z_dict, edge_label_index):\n",
    "        row, col = edge_label_index\n",
    "        z = torch.cat([z_dict['transcription factor'][row], z_dict['gene'][col]], dim=-1)\n",
    "\n",
    "        z = self.lin1(z).relu()\n",
    "        z = self.lin2(z)\n",
    "        return z.view(-1)\n",
    "\n",
    "class Model(torch.nn.Module):\n",
    "    def __init__(self, hidden_channels):\n",
    "        super().__init__()\n",
    "        self.encoder = GNNEncoder(hidden_channels, hidden_channels)\n",
    "        self.encoder = to_hetero(self.encoder, data.metadata(), aggr='sum')\n",
    "        self.decoder = EdgeDecoder(hidden_channels)\n",
    "        # binary cross entropy loss with logits\n",
    "        self.loss = torch.nn.BCEWithLogitsLoss()\n",
    "\n",
    "    def forward(self, x_dict, edge_index_dict, edge_label_index):\n",
    "        z_dict = self.encoder(x_dict, edge_index_dict)\n",
    "        return self.decoder(z_dict, edge_label_index)"
   ]
  },
  {
   "cell_type": "code",
   "execution_count": 38,
   "metadata": {},
   "outputs": [
    {
     "data": {
      "text/plain": [
       "(['gene', 'transcription factor'],\n",
       " [('transcription factor', 'transcriptional regulation', 'gene'),\n",
       "  ('gene', 'transcriptional regulation', 'gene'),\n",
       "  ('gene', 'rev_transcriptional regulation', 'transcription factor')])"
      ]
     },
     "execution_count": 38,
     "metadata": {},
     "output_type": "execute_result"
    }
   ],
   "source": [
    "data.metadata()"
   ]
  },
  {
   "cell_type": "code",
   "execution_count": 39,
   "metadata": {},
   "outputs": [],
   "source": [
    "hidden_channels = 32\n",
    "model = Model(hidden_channels) #.to(device)"
   ]
  },
  {
   "cell_type": "markdown",
   "metadata": {},
   "source": [
    "### 6. Train and test the model"
   ]
  },
  {
   "cell_type": "code",
   "execution_count": 40,
   "metadata": {},
   "outputs": [
    {
     "name": "stdout",
     "output_type": "stream",
     "text": [
      "Epoch: 001, Loss: 0.5754, Train: 1.3302, Val: 1.2754, Test: 1.2262\n",
      "Epoch: 002, Loss: 0.5153, Train: 1.1770, Val: 1.1370, Test: 1.0845\n",
      "Epoch: 003, Loss: 0.5039, Train: 0.6462, Val: 0.6602, Test: 0.6064\n",
      "Epoch: 004, Loss: 0.5032, Train: 0.6547, Val: 0.6679, Test: 0.6137\n",
      "Epoch: 005, Loss: 0.5019, Train: 0.9981, Val: 0.9786, Test: 0.9241\n",
      "Epoch: 006, Loss: 0.4949, Train: 1.1242, Val: 1.0974, Test: 1.0440\n",
      "Epoch: 007, Loss: 0.5007, Train: 0.9685, Val: 0.9524, Test: 0.8970\n",
      "Epoch: 008, Loss: 0.4940, Train: 0.7374, Val: 0.7423, Test: 0.6859\n",
      "Epoch: 009, Loss: 0.4948, Train: 0.6896, Val: 0.7002, Test: 0.6444\n",
      "Epoch: 010, Loss: 0.4979, Train: 0.8197, Val: 0.8174, Test: 0.7607\n",
      "Epoch: 011, Loss: 0.4924, Train: 1.0048, Val: 0.9877, Test: 0.9323\n",
      "Epoch: 012, Loss: 0.4951, Train: 1.0254, Val: 1.0068, Test: 0.9516\n",
      "Epoch: 013, Loss: 0.4959, Train: 0.8868, Val: 0.8794, Test: 0.8229\n",
      "Epoch: 014, Loss: 0.4923, Train: 0.7507, Val: 0.7559, Test: 0.6989\n",
      "Epoch: 015, Loss: 0.4941, Train: 0.7328, Val: 0.7398, Test: 0.6829\n",
      "Epoch: 016, Loss: 0.4949, Train: 0.8275, Val: 0.8254, Test: 0.7685\n",
      "Epoch: 017, Loss: 0.4922, Train: 0.9531, Val: 0.9405, Test: 0.8845\n",
      "Epoch: 018, Loss: 0.4934, Train: 0.9818, Val: 0.9670, Test: 0.9113\n",
      "Epoch: 019, Loss: 0.4941, Train: 0.8942, Val: 0.8863, Test: 0.8298\n",
      "Epoch: 020, Loss: 0.4922, Train: 0.7886, Val: 0.7899, Test: 0.7328\n",
      "Epoch: 021, Loss: 0.4927, Train: 0.7586, Val: 0.7628, Test: 0.7057\n",
      "Epoch: 022, Loss: 0.4935, Train: 0.8171, Val: 0.8157, Test: 0.7586\n",
      "Epoch: 023, Loss: 0.4921, Train: 0.9110, Val: 0.9016, Test: 0.8452\n",
      "Epoch: 024, Loss: 0.4923, Train: 0.9489, Val: 0.9364, Test: 0.8804\n",
      "Epoch: 025, Loss: 0.4930, Train: 0.8975, Val: 0.8887, Test: 0.8323\n",
      "Epoch: 026, Loss: 0.4920, Train: 0.8129, Val: 0.8101, Test: 0.7532\n",
      "Epoch: 027, Loss: 0.4920, Train: 0.7813, Val: 0.7825, Test: 0.7254\n",
      "Epoch: 028, Loss: 0.4926, Train: 0.8217, Val: 0.8208, Test: 0.7638\n",
      "Epoch: 029, Loss: 0.4918, Train: 0.8927, Val: 0.8881, Test: 0.8314\n",
      "Epoch: 030, Loss: 0.4918, Train: 0.9227, Val: 0.9176, Test: 0.8611\n",
      "Epoch: 031, Loss: 0.4922, Train: 0.8855, Val: 0.8847, Test: 0.8278\n",
      "Epoch: 032, Loss: 0.4916, Train: 0.8248, Val: 0.8295, Test: 0.7722\n",
      "Epoch: 033, Loss: 0.4916, Train: 0.8001, Val: 0.8077, Test: 0.7503\n",
      "Epoch: 034, Loss: 0.4919, Train: 0.8299, Val: 0.8365, Test: 0.7792\n",
      "Epoch: 035, Loss: 0.4914, Train: 0.8830, Val: 0.8874, Test: 0.8302\n",
      "Epoch: 036, Loss: 0.4914, Train: 0.9047, Val: 0.9089, Test: 0.8517\n",
      "Epoch: 037, Loss: 0.4916, Train: 0.8745, Val: 0.8815, Test: 0.8242\n",
      "Epoch: 038, Loss: 0.4912, Train: 0.8284, Val: 0.8392, Test: 0.7816\n",
      "Epoch: 039, Loss: 0.4912, Train: 0.8143, Val: 0.8268, Test: 0.7692\n",
      "Epoch: 040, Loss: 0.4913, Train: 0.8435, Val: 0.8554, Test: 0.7978\n",
      "Epoch: 041, Loss: 0.4910, Train: 0.8836, Val: 0.8945, Test: 0.8369\n",
      "Epoch: 042, Loss: 0.4911, Train: 0.8903, Val: 0.9015, Test: 0.8439\n",
      "Epoch: 043, Loss: 0.4911, Train: 0.8585, Val: 0.8713, Test: 0.8135\n",
      "Epoch: 044, Loss: 0.4908, Train: 0.8261, Val: 0.8395, Test: 0.7818\n",
      "Epoch: 045, Loss: 0.4909, Train: 0.8310, Val: 0.8464, Test: 0.7886\n",
      "Epoch: 046, Loss: 0.4908, Train: 0.8649, Val: 0.8827, Test: 0.8245\n",
      "Epoch: 047, Loss: 0.4906, Train: 0.8863, Val: 0.9064, Test: 0.8480\n",
      "Epoch: 048, Loss: 0.4907, Train: 0.8703, Val: 0.8919, Test: 0.8333\n",
      "Epoch: 049, Loss: 0.4905, Train: 0.8397, Val: 0.8623, Test: 0.8037\n",
      "Epoch: 050, Loss: 0.4905, Train: 0.8332, Val: 0.8574, Test: 0.7986\n",
      "Epoch: 051, Loss: 0.4905, Train: 0.8573, Val: 0.8838, Test: 0.8247\n",
      "Epoch: 052, Loss: 0.4903, Train: 0.8801, Val: 0.9092, Test: 0.8497\n",
      "Epoch: 053, Loss: 0.4903, Train: 0.8724, Val: 0.9038, Test: 0.8441\n",
      "Epoch: 054, Loss: 0.4902, Train: 0.8470, Val: 0.8806, Test: 0.8206\n",
      "Epoch: 055, Loss: 0.4901, Train: 0.8397, Val: 0.8755, Test: 0.8153\n",
      "Epoch: 056, Loss: 0.4901, Train: 0.8598, Val: 0.8985, Test: 0.8379\n",
      "Epoch: 057, Loss: 0.4900, Train: 0.8787, Val: 0.9204, Test: 0.8595\n",
      "Epoch: 058, Loss: 0.4900, Train: 0.8701, Val: 0.9140, Test: 0.8527\n",
      "Epoch: 059, Loss: 0.4899, Train: 0.8493, Val: 0.8947, Test: 0.8333\n",
      "Epoch: 060, Loss: 0.4898, Train: 0.8488, Val: 0.8970, Test: 0.8353\n",
      "Epoch: 061, Loss: 0.4898, Train: 0.8692, Val: 0.9222, Test: 0.8600\n",
      "Epoch: 062, Loss: 0.4897, Train: 0.8788, Val: 0.9357, Test: 0.8731\n",
      "Epoch: 063, Loss: 0.4897, Train: 0.8636, Val: 0.9218, Test: 0.8591\n",
      "Epoch: 064, Loss: 0.4896, Train: 0.8501, Val: 0.9099, Test: 0.8471\n",
      "Epoch: 065, Loss: 0.4895, Train: 0.8624, Val: 0.9280, Test: 0.8646\n",
      "Epoch: 066, Loss: 0.4894, Train: 0.8796, Val: 0.9520, Test: 0.8880\n",
      "Epoch: 067, Loss: 0.4894, Train: 0.8706, Val: 0.9449, Test: 0.8808\n",
      "Epoch: 068, Loss: 0.4892, Train: 0.8555, Val: 0.9306, Test: 0.8669\n",
      "Epoch: 069, Loss: 0.4891, Train: 0.8642, Val: 0.9449, Test: 0.8811\n",
      "Epoch: 070, Loss: 0.4890, Train: 0.8848, Val: 0.9728, Test: 0.9085\n",
      "Epoch: 071, Loss: 0.4890, Train: 0.8777, Val: 0.9686, Test: 0.9042\n",
      "Epoch: 072, Loss: 0.4890, Train: 0.8580, Val: 0.9514, Test: 0.8872\n",
      "Epoch: 073, Loss: 0.4889, Train: 0.8735, Val: 0.9777, Test: 0.9127\n",
      "Epoch: 074, Loss: 0.4887, Train: 0.8852, Val: 0.9985, Test: 0.9325\n",
      "Epoch: 075, Loss: 0.4887, Train: 0.8580, Val: 0.9718, Test: 0.9062\n",
      "Epoch: 076, Loss: 0.4886, Train: 0.8675, Val: 0.9888, Test: 0.9229\n",
      "Epoch: 077, Loss: 0.4885, Train: 0.8977, Val: 1.0308, Test: 0.9638\n",
      "Epoch: 078, Loss: 0.4884, Train: 0.8619, Val: 0.9942, Test: 0.9280\n",
      "Epoch: 079, Loss: 0.4883, Train: 0.8629, Val: 1.0002, Test: 0.9339\n",
      "Epoch: 080, Loss: 0.4882, Train: 0.8996, Val: 1.0471, Test: 0.9800\n",
      "Epoch: 081, Loss: 0.4881, Train: 0.8668, Val: 1.0115, Test: 0.9454\n",
      "Epoch: 082, Loss: 0.4880, Train: 0.8655, Val: 1.0138, Test: 0.9482\n",
      "Epoch: 083, Loss: 0.4878, Train: 0.8989, Val: 1.0577, Test: 0.9917\n",
      "Epoch: 084, Loss: 0.4877, Train: 0.8533, Val: 1.0092, Test: 0.9449\n",
      "Epoch: 085, Loss: 0.4875, Train: 0.8817, Val: 1.0456, Test: 0.9810\n",
      "Epoch: 086, Loss: 0.4873, Train: 0.8848, Val: 1.0519, Test: 0.9879\n",
      "Epoch: 087, Loss: 0.4871, Train: 0.8635, Val: 1.0292, Test: 0.9669\n",
      "Epoch: 088, Loss: 0.4870, Train: 0.8956, Val: 1.0703, Test: 1.0076\n",
      "Epoch: 089, Loss: 0.4868, Train: 0.8671, Val: 1.0407, Test: 0.9797\n",
      "Epoch: 090, Loss: 0.4866, Train: 0.8800, Val: 1.0595, Test: 0.9983\n",
      "Epoch: 091, Loss: 0.4865, Train: 0.8881, Val: 1.0732, Test: 1.0124\n",
      "Epoch: 092, Loss: 0.4864, Train: 0.8692, Val: 1.0562, Test: 0.9971\n",
      "Epoch: 093, Loss: 0.4863, Train: 0.9336, Val: 1.1279, Test: 1.0679\n",
      "Epoch: 094, Loss: 0.4865, Train: 0.7265, Val: 0.8957, Test: 0.8451\n",
      "Epoch: 095, Loss: 0.4906, Train: 1.1085, Val: 1.3271, Test: 1.2593\n",
      "Epoch: 096, Loss: 0.4920, Train: 0.8342, Val: 1.0301, Test: 0.9723\n",
      "Epoch: 097, Loss: 0.4863, Train: 0.7617, Val: 0.9387, Test: 0.8841\n",
      "Epoch: 098, Loss: 0.4887, Train: 0.9838, Val: 1.1883, Test: 1.1243\n",
      "Epoch: 099, Loss: 0.4875, Train: 0.9727, Val: 1.1778, Test: 1.1144\n",
      "Epoch: 100, Loss: 0.4870, Train: 0.7837, Val: 0.9664, Test: 0.9113\n"
     ]
    }
   ],
   "source": [
    "# Due to lazy initialization, we need to run one model step so the number\n",
    "# of parameters can be inferred:\n",
    "with torch.no_grad():\n",
    "    model.encoder(train_data.x_dict, train_data.edge_index_dict)\n",
    "\n",
    "optimizer = torch.optim.Adam(model.parameters(), lr=0.01)\n",
    "\n",
    "def calculate_loss(loss_func, pred, target):\n",
    "    output = loss_func(pred, target)\n",
    "    return output\n",
    "\n",
    "def train():\n",
    "    model.train()\n",
    "    optimizer.zero_grad()\n",
    "    pred = model(train_data.x_dict, train_data.edge_index_dict, train_data['transcription factor', 'gene'].edge_label_index)\n",
    "    \n",
    "    #print(pred)\n",
    "    target = train_data['transcription factor', 'gene'].edge_label\n",
    "    #print(target)\n",
    "    loss = calculate_loss(model.loss, pred, target.float())\n",
    "    #loss = weighted_mse_loss(pred, target, weight)\n",
    "    loss.backward()\n",
    "    optimizer.step()\n",
    "    return float(loss)\n",
    "\n",
    "\n",
    "@torch.no_grad()\n",
    "def test(data):\n",
    "    model.eval()\n",
    "    pred = model(data.x_dict, data.edge_index_dict,\n",
    "                 data['transcription factor', 'gene'].edge_label_index)\n",
    "    pred = pred.clamp(min=0, max=5)\n",
    "    target = data['transcription factor', 'gene'].edge_label.float()\n",
    "    rmse = F.mse_loss(pred, target).sqrt()\n",
    "    return float(rmse)\n",
    "\n",
    "loss_values = []\n",
    "train_rmse_values = []\n",
    "val_rmse_values = []\n",
    "test_rmse_values = []\n",
    "\n",
    "for epoch in range(1, 101): #301):\n",
    "    loss = train()\n",
    "    train_rmse = test(train_data)\n",
    "    val_rmse = test(val_data)\n",
    "    test_rmse = test(test_data)\n",
    "    print(f'Epoch: {epoch:03d}, Loss: {loss:.4f}, Train: {train_rmse:.4f}, '\n",
    "          f'Val: {val_rmse:.4f}, Test: {test_rmse:.4f}')\n",
    "    loss_values.append(loss)\n",
    "    train_rmse_values.append(train_rmse)\n",
    "    val_rmse_values.append(val_rmse)\n",
    "    test_rmse_values.append(test_rmse)"
   ]
  },
  {
   "cell_type": "code",
   "execution_count": 42,
   "metadata": {},
   "outputs": [
    {
     "data": {
      "text/plain": [
       "[<matplotlib.lines.Line2D at 0x7feb38f3deb0>]"
      ]
     },
     "execution_count": 42,
     "metadata": {},
     "output_type": "execute_result"
    },
    {
     "data": {
      "image/png": "[encoded data removed]",
      "text/plain": [
       "<Figure size 640x480 with 1 Axes>"
      ]
     },
     "metadata": {},
     "output_type": "display_data"
    }
   ],
   "source": [
    "import matplotlib.pyplot as plt\n",
    "\n",
    "plt.plot(loss_values)"
   ]
  },
  {
   "cell_type": "code",
   "execution_count": 43,
   "metadata": {},
   "outputs": [
    {
     "data": {
      "text/plain": [
       "[<matplotlib.lines.Line2D at 0x7feb38ea0220>]"
      ]
     },
     "execution_count": 43,
     "metadata": {},
     "output_type": "execute_result"
    },
    {
     "data": {
      "image/png": "[encoded data removed]",
      "text/plain": [
       "<Figure size 640x480 with 1 Axes>"
      ]
     },
     "metadata": {},
     "output_type": "display_data"
    }
   ],
   "source": [
    "plt.plot(train_rmse_values, label=\"train\")\n",
    "plt.plot(val_rmse_values, label=\"val\")\n",
    "plt.plot(test_rmse_values, label=\"test\")"
   ]
  },
  {
   "cell_type": "markdown",
   "metadata": {},
   "source": [
    "### 7. Evaluate the learned node embeddings"
   ]
  },
  {
   "cell_type": "code",
   "execution_count": 44,
   "metadata": {},
   "outputs": [],
   "source": [
    "model.eval() \n",
    "\n",
    "with torch.no_grad():\n",
    "    # Pass the graph data through the encoder to get node embeddings\n",
    "    node_embeddings = model.encoder(test_data.x_dict, test_data.edge_index_dict)"
   ]
  },
  {
   "cell_type": "code",
   "execution_count": 45,
   "metadata": {},
   "outputs": [
    {
     "data": {
      "text/plain": [
       "torch.Size([6838, 32])"
      ]
     },
     "execution_count": 45,
     "metadata": {},
     "output_type": "execute_result"
    }
   ],
   "source": [
    "node_embeddings[\"gene\"].size()"
   ]
  },
  {
   "cell_type": "code",
   "execution_count": 46,
   "metadata": {},
   "outputs": [
    {
     "data": {
      "text/plain": [
       "torch.Size([267, 32])"
      ]
     },
     "execution_count": 46,
     "metadata": {},
     "output_type": "execute_result"
    }
   ],
   "source": [
    "node_embeddings[\"transcription factor\"].size()"
   ]
  },
  {
   "cell_type": "code",
   "execution_count": 47,
   "metadata": {},
   "outputs": [],
   "source": [
    "embeddings_gene = node_embeddings[\"gene\"]\n",
    "embeddigs_tf = node_embeddings[\"transcription factor\"]\n",
    "\n",
    "all_embeddings = torch.cat([embeddings_gene, embeddigs_tf], dim=0)"
   ]
  },
  {
   "cell_type": "code",
   "execution_count": 48,
   "metadata": {},
   "outputs": [
    {
     "data": {
      "text/plain": [
       "torch.Size([7105, 32])"
      ]
     },
     "execution_count": 48,
     "metadata": {},
     "output_type": "execute_result"
    }
   ],
   "source": [
    "all_embeddings.size()"
   ]
  },
  {
   "cell_type": "code",
   "execution_count": 49,
   "metadata": {},
   "outputs": [],
   "source": [
    "colors = ['blue'] * len(embeddings_gene) + ['red'] * len(embeddigs_tf)"
   ]
  },
  {
   "cell_type": "code",
   "execution_count": 50,
   "metadata": {},
   "outputs": [],
   "source": [
    "from sklearn.manifold import TSNE\n",
    "\n",
    "z = TSNE(n_components=2).fit_transform(all_embeddings.detach().numpy())"
   ]
  },
  {
   "cell_type": "code",
   "execution_count": 51,
   "metadata": {},
   "outputs": [
    {
     "data": {
      "text/plain": [
       "<matplotlib.collections.PathCollection at 0x7feb32a03340>"
      ]
     },
     "execution_count": 51,
     "metadata": {},
     "output_type": "execute_result"
    },
    {
     "data": {
      "image/png": "[encoded data removed]",
      "text/plain": [
       "<Figure size 640x480 with 1 Axes>"
      ]
     },
     "metadata": {},
     "output_type": "display_data"
    }
   ],
   "source": [
    "plt.scatter(z[:, 0], z[:, 1], c=colors)"
   ]
  },
  {
   "cell_type": "code",
   "execution_count": 127,
   "metadata": {},
   "outputs": [
    {
     "data": {
      "text/plain": [
       "<matplotlib.collections.PathCollection at 0x7feb3193f190>"
      ]
     },
     "execution_count": 127,
     "metadata": {},
     "output_type": "execute_result"
    },
    {
     "data": {
      "image/png": "[encoded data removed]",
      "text/plain": [
       "<Figure size 640x480 with 1 Axes>"
      ]
     },
     "metadata": {},
     "output_type": "display_data"
    }
   ],
   "source": [
    "from sklearn.cluster import KMeans\n",
    "clusters = 12\n",
    "kmeans = KMeans(n_clusters=clusters, random_state=0).fit(z)\n",
    "kmeans.labels_\n",
    "plt.scatter(z[:, 0], z[:, 1], c=kmeans.labels_)"
   ]
  },
  {
   "cell_type": "code",
   "execution_count": 128,
   "metadata": {},
   "outputs": [],
   "source": [
    "# get items of one cluster\n",
    "\n",
    "all_cluster_indices = []\n",
    "smallest = 10000\n",
    "smalles_index = None\n",
    "for cluster_index in range(kmeans.n_clusters):\n",
    "    cluster_indices = [i for i, label in enumerate(kmeans.labels_) if label == cluster_index]\n",
    "    if len(cluster_indices) < smallest:\n",
    "        smallest = len(cluster_indices)\n",
    "        smalles_index = cluster_index\n",
    "    all_cluster_indices.append(cluster_indices)"
   ]
  },
  {
   "cell_type": "code",
   "execution_count": 129,
   "metadata": {},
   "outputs": [],
   "source": [
    "# get the cluster with the fewest elements from all_cluster_indices\n",
    "small_sample = all_cluster_indices[smalles_index]"
   ]
  },
  {
   "cell_type": "code",
   "execution_count": 130,
   "metadata": {},
   "outputs": [
    {
     "data": {
      "text/plain": [
       "['hgnc.symbol:CYP1B1',\n",
       " 'hgnc.symbol:INHA',\n",
       " 'hgnc.symbol:RBL1',\n",
       " 'hgnc.symbol:IRF8',\n",
       " 'hgnc.symbol:CHKA',\n",
       " 'hgnc.symbol:STUB1',\n",
       " 'hgnc.symbol:BTG2',\n",
       " 'hgnc.symbol:TPO',\n",
       " 'hgnc.symbol:ALDH3A1',\n",
       " 'hgnc.symbol:GABRA6',\n",
       " 'hgnc.symbol:MYH10',\n",
       " 'hgnc.symbol:RAG2',\n",
       " 'hgnc.symbol:TFRC',\n",
       " 'hgnc.symbol:SYK',\n",
       " 'hgnc.symbol:MXD1',\n",
       " 'hgnc.symbol:ITGB2',\n",
       " 'hgnc.symbol:LGALS3',\n",
       " 'hgnc.symbol:SCG2',\n",
       " 'hgnc.symbol:CD19',\n",
       " 'hgnc.symbol:LCP1',\n",
       " 'hgnc.symbol:KLF12',\n",
       " 'hgnc.symbol:LTA',\n",
       " 'hgnc.symbol:XPO1',\n",
       " 'hgnc.symbol:CENPX',\n",
       " 'hgnc.symbol:CEBPZ',\n",
       " 'hgnc.symbol:MAPKAPK2',\n",
       " 'hgnc.symbol:CEBPD',\n",
       " 'hgnc.symbol:ATP1B1',\n",
       " 'hgnc.symbol:CPT1B',\n",
       " 'hgnc.symbol:ALG3',\n",
       " 'hgnc.symbol:PTCRA',\n",
       " 'hgnc.symbol:PSMC6',\n",
       " 'hgnc.symbol:POLB',\n",
       " 'hgnc.symbol:RAX',\n",
       " 'hgnc.symbol:AQP3',\n",
       " 'hgnc.symbol:IL12A',\n",
       " 'hgnc.symbol:ATP7A',\n",
       " 'hgnc.symbol:CYCS',\n",
       " 'hgnc.symbol:ZNF148',\n",
       " 'hgnc.symbol:NCOA3',\n",
       " 'hgnc.symbol:ADA',\n",
       " 'hgnc.symbol:COL3A1',\n",
       " 'hgnc.symbol:IFNGR1',\n",
       " 'hgnc.symbol:KLF13',\n",
       " 'hgnc.symbol:VWF',\n",
       " 'hgnc.symbol:HIPK2',\n",
       " 'hgnc.symbol:ATP9B',\n",
       " 'hgnc.symbol:CHUK',\n",
       " 'hgnc.symbol:CXCL5',\n",
       " 'hgnc.symbol:MMP28',\n",
       " 'hgnc.symbol:OPRD1',\n",
       " 'hgnc.symbol:CXCL11',\n",
       " 'hgnc.symbol:SCGB3A2',\n",
       " 'hgnc.symbol:C4B',\n",
       " 'hgnc.symbol:SNURF',\n",
       " 'hgnc.symbol:POLK',\n",
       " 'hgnc.symbol:CTSL',\n",
       " 'hgnc.symbol:ZNF354C',\n",
       " 'hgnc.symbol:NME1',\n",
       " 'hgnc.symbol:SLC9A3',\n",
       " 'hgnc.symbol:CRYGD',\n",
       " 'hgnc.symbol:GK',\n",
       " 'hgnc.symbol:CTSS',\n",
       " 'hgnc.symbol:KAT5',\n",
       " 'hgnc.symbol:VPREB1',\n",
       " 'hgnc.symbol:NFIL3',\n",
       " 'hgnc.symbol:CDKN2C',\n",
       " 'hgnc.symbol:MLIP',\n",
       " 'hgnc.symbol:PA2G4',\n",
       " 'hgnc.symbol:IFITM3',\n",
       " 'hgnc.symbol:COL10A1',\n",
       " 'hgnc.symbol:MEN1',\n",
       " 'hgnc.symbol:MIF',\n",
       " 'hgnc.symbol:GP6',\n",
       " 'hgnc.symbol:MXD4',\n",
       " 'hgnc.symbol:MAP3K5',\n",
       " 'hgnc.symbol:PDE6B',\n",
       " 'hgnc.symbol:RETNLB',\n",
       " 'hgnc.symbol:COP1',\n",
       " 'hgnc.symbol:MAP1B',\n",
       " 'hgnc.symbol:KCNN3',\n",
       " 'hgnc.symbol:HMGA1',\n",
       " 'hgnc.symbol:ARID3A',\n",
       " 'hgnc.symbol:LCOR',\n",
       " 'hgnc.symbol:PIM1',\n",
       " 'hgnc.symbol:KHDRBS1',\n",
       " 'hgnc.symbol:MT-TL1',\n",
       " 'hgnc.symbol:FOLR1',\n",
       " 'hgnc.symbol:OGN',\n",
       " 'hgnc.symbol:SPRY1',\n",
       " 'hgnc.symbol:NTHL1',\n",
       " 'hgnc.symbol:BCL2L11',\n",
       " 'hgnc.symbol:CD2',\n",
       " 'hgnc.symbol:RACK1',\n",
       " 'hgnc.symbol:MB',\n",
       " 'hgnc.symbol:MIMT1',\n",
       " 'hgnc.symbol:IGHM',\n",
       " 'hgnc.symbol:UGT1A9',\n",
       " 'hgnc.symbol:PSEN2',\n",
       " 'hgnc.symbol:NPAT',\n",
       " 'hgnc.symbol:SIM1',\n",
       " 'hgnc.symbol:KLF2',\n",
       " 'hgnc.symbol:PLIN1',\n",
       " 'hgnc.symbol:LITAF',\n",
       " 'hgnc.symbol:ETV3',\n",
       " 'hgnc.symbol:FAF1',\n",
       " 'hgnc.symbol:TBL1XR1',\n",
       " 'hgnc.symbol:MUC17',\n",
       " 'hgnc.symbol:TRA2B',\n",
       " 'hgnc.symbol:CXCR5',\n",
       " 'hgnc.symbol:SMARCC1',\n",
       " 'hgnc.symbol:PPP1R13B',\n",
       " 'hgnc.symbol:TAC3',\n",
       " 'hgnc.symbol:GAB2',\n",
       " 'hgnc.symbol:SERPINF1',\n",
       " 'hgnc.symbol:H1-5',\n",
       " 'hgnc.symbol:GPX4',\n",
       " 'hgnc.symbol:ADAMTS1',\n",
       " 'hgnc.symbol:TNFRSF10A',\n",
       " 'hgnc.symbol:NQO2',\n",
       " 'hgnc.symbol:SPRR1A',\n",
       " 'hgnc.symbol:AKAP12',\n",
       " 'hgnc.symbol:TIMP2',\n",
       " 'hgnc.symbol:CASP9',\n",
       " 'hgnc.symbol:SUB1',\n",
       " 'hgnc.symbol:ALPI',\n",
       " 'hgnc.symbol:ETV2',\n",
       " 'hgnc.symbol:AKR1C3',\n",
       " 'hgnc.symbol:GSN',\n",
       " 'hgnc.symbol:BUB1B',\n",
       " 'hgnc.symbol:DLC1',\n",
       " 'hgnc.symbol:MUSK',\n",
       " 'hgnc.symbol:ABCA4',\n",
       " 'hgnc.symbol:DIRAS3',\n",
       " 'hgnc.symbol:SP6',\n",
       " 'hgnc.symbol:SLC1A5',\n",
       " 'hgnc.symbol:ITGA3',\n",
       " 'hgnc.symbol:TDO2',\n",
       " 'hgnc.symbol:GREB1',\n",
       " 'hgnc.symbol:HAS2',\n",
       " 'hgnc.symbol:ESX1',\n",
       " 'hgnc.symbol:PYCARD',\n",
       " 'hgnc.symbol:FOLR2',\n",
       " 'hgnc.symbol:DPYD',\n",
       " 'hgnc.symbol:ACO1',\n",
       " 'hgnc.symbol:ULBP1',\n",
       " 'hgnc.symbol:CD55',\n",
       " 'hgnc.symbol:UGT1A4',\n",
       " 'hgnc.symbol:POLL',\n",
       " 'hgnc.symbol:MCM5',\n",
       " 'hgnc.symbol:GBP2',\n",
       " 'hgnc.symbol:RFC1',\n",
       " 'hgnc.symbol:ETV1',\n",
       " 'hgnc.symbol:OAP',\n",
       " 'hgnc.symbol:NEUROD2',\n",
       " 'hgnc.symbol:KDM4C',\n",
       " 'hgnc.symbol:HMGN2',\n",
       " 'hgnc.symbol:HOXA7',\n",
       " 'hgnc.symbol:SON',\n",
       " 'hgnc.symbol:HMMR',\n",
       " 'hgnc.symbol:ECEL1',\n",
       " 'hgnc.symbol:PPA1',\n",
       " 'hgnc.symbol:DTL',\n",
       " 'hgnc.symbol:BCL11B',\n",
       " 'hgnc.symbol:HR',\n",
       " 'hgnc.symbol:TNNI3',\n",
       " 'hgnc.symbol:DUSP6',\n",
       " 'hgnc.symbol:KLF8',\n",
       " 'hgnc.symbol:CD7',\n",
       " 'hgnc.symbol:MSI1',\n",
       " 'hgnc.symbol:CD2AP',\n",
       " 'hgnc.symbol:DEFB1',\n",
       " 'hgnc.symbol:BAG3',\n",
       " 'hgnc.symbol:DAPK2',\n",
       " 'hgnc.symbol:DOT1L',\n",
       " 'hgnc.symbol:TJP1',\n",
       " 'hgnc.symbol:SLC38A2',\n",
       " 'hgnc.symbol:FZD1',\n",
       " 'hgnc.symbol:IFIT3',\n",
       " 'hgnc.symbol:UGCG',\n",
       " 'hgnc.symbol:AGO1',\n",
       " 'hgnc.symbol:RS1',\n",
       " 'hgnc.symbol:LDHC',\n",
       " 'hgnc.symbol:TAF1',\n",
       " 'hgnc.symbol:KRT13',\n",
       " 'hgnc.symbol:SKI',\n",
       " 'hgnc.symbol:TMPO',\n",
       " 'hgnc.symbol:BARD1',\n",
       " 'hgnc.symbol:SCG5',\n",
       " 'hgnc.symbol:KLK1',\n",
       " 'hgnc.symbol:SDC2',\n",
       " 'hgnc.symbol:KMT2E',\n",
       " 'hgnc.symbol:RXFP2',\n",
       " 'hgnc.symbol:ERRFI1',\n",
       " 'hgnc.symbol:TFAP2E',\n",
       " 'hgnc.symbol:UBE2C',\n",
       " 'hgnc.symbol:DDX17',\n",
       " 'hgnc.symbol:PRDM16',\n",
       " 'hgnc.symbol:RPRM',\n",
       " 'hgnc.symbol:CREB3L3',\n",
       " 'hgnc.symbol:TGFBR3',\n",
       " 'hgnc.symbol:PRDM10',\n",
       " 'hgnc.symbol:ZFP36',\n",
       " 'hgnc.symbol:LIMA1',\n",
       " 'hgnc.symbol:GLS2',\n",
       " 'hgnc.symbol:GTF3A',\n",
       " 'hgnc.symbol:MAP1LC3A',\n",
       " 'hgnc.symbol:ZNF667',\n",
       " 'hgnc.symbol:HBP1',\n",
       " 'hgnc.symbol:PPP2R2B',\n",
       " 'hgnc.symbol:LIN28A',\n",
       " 'hgnc.symbol:ZFHX3',\n",
       " 'hgnc.symbol:ELF4',\n",
       " 'hgnc.symbol:SULF1',\n",
       " 'hgnc.symbol:RAD51B',\n",
       " 'hgnc.symbol:KRT1',\n",
       " 'hgnc.symbol:CCR9',\n",
       " 'hgnc.symbol:HBA2',\n",
       " 'hgnc.symbol:SALL2',\n",
       " 'hgnc.symbol:SATB1',\n",
       " 'hgnc.symbol:GSTM2',\n",
       " 'hgnc.symbol:BATF',\n",
       " 'hgnc.symbol:DDR1',\n",
       " 'hgnc.symbol:LXN',\n",
       " 'hgnc.symbol:OTX1',\n",
       " 'hgnc.symbol:MARK1',\n",
       " 'hgnc.symbol:ABCB6',\n",
       " 'hgnc.symbol:KRT17',\n",
       " 'hgnc.symbol:GRHL3',\n",
       " 'hgnc.symbol:NKX2-3',\n",
       " 'hgnc.symbol:BACH1',\n",
       " 'hgnc.symbol:ITGA7',\n",
       " 'hgnc.symbol:RBM38',\n",
       " 'hgnc.symbol:NRAS',\n",
       " 'hgnc.symbol:IRAK3',\n",
       " 'hgnc.symbol:COL4A1',\n",
       " 'hgnc.symbol:IL32',\n",
       " 'hgnc.symbol:PROK2',\n",
       " 'hgnc.symbol:GPAM',\n",
       " 'hgnc.symbol:DCC',\n",
       " 'hgnc.symbol:CIDEC',\n",
       " 'hgnc.symbol:TRIB2',\n",
       " 'hgnc.symbol:SHOX',\n",
       " 'hgnc.symbol:PDCD1',\n",
       " 'hgnc.symbol:TTPA',\n",
       " 'hgnc.symbol:SMARCD3',\n",
       " 'hgnc.symbol:HAS1',\n",
       " 'hgnc.symbol:ALX3',\n",
       " 'hgnc.symbol:COL6A1',\n",
       " 'hgnc.symbol:MESP1',\n",
       " 'hgnc.symbol:IFITM5',\n",
       " 'hgnc.symbol:GSK3A',\n",
       " 'hgnc.symbol:MIR22',\n",
       " 'hgnc.symbol:TRIM21',\n",
       " 'hgnc.symbol:SBNO2',\n",
       " 'hgnc.symbol:DPF3',\n",
       " 'hgnc.symbol:PRND',\n",
       " 'hgnc.symbol:INO80',\n",
       " 'hgnc.symbol:GSX2',\n",
       " 'hgnc.symbol:CSH1',\n",
       " 'hgnc.symbol:TOP1',\n",
       " 'hgnc.symbol:LCAT',\n",
       " 'hgnc.symbol:TFEC',\n",
       " 'hgnc.symbol:GFER',\n",
       " 'hgnc.symbol:CDCA4',\n",
       " 'hgnc.symbol:PTPA',\n",
       " 'hgnc.symbol:ATF7',\n",
       " 'hgnc.symbol:MCM2',\n",
       " 'hgnc.symbol:HIVEP3',\n",
       " 'hgnc.symbol:RFC3',\n",
       " 'hgnc.symbol:HDAC7',\n",
       " 'hgnc.symbol:MAD2L1',\n",
       " 'hgnc.symbol:NR2F6',\n",
       " 'hgnc.symbol:TCF7',\n",
       " 'hgnc.symbol:BHLHE22',\n",
       " 'hgnc.symbol:SP100',\n",
       " 'hgnc.symbol:E2F7',\n",
       " 'hgnc.symbol:PLK3',\n",
       " 'hgnc.symbol:RGS16',\n",
       " 'hgnc.symbol:IFITM1',\n",
       " 'hgnc.symbol:ITGA11',\n",
       " 'hgnc.symbol:ZNF382',\n",
       " 'hgnc.symbol:GPC6',\n",
       " 'hgnc.symbol:NCOA1',\n",
       " 'hgnc.symbol:TBX22',\n",
       " 'hgnc.symbol:SERPINB6',\n",
       " 'hgnc.symbol:MIR302A',\n",
       " 'hgnc.symbol:NR2C1',\n",
       " 'hgnc.symbol:ADAMTS13',\n",
       " 'hgnc.symbol:BACH2']"
      ]
     },
     "execution_count": 130,
     "metadata": {},
     "output_type": "execute_result"
    }
   ],
   "source": [
    "# get gene names\n",
    "# random link split only splits the edges into train, val, test -> we can use the initial mappign to ge the node names\n",
    "all_node_names = list(all_nodes_mapping)\n",
    "# use list of cluster_indices to get the items with these indices from all_node_names\n",
    "gene_names = [all_node_names[i] for i in small_sample]\n",
    "gene_names"
   ]
  },
  {
   "cell_type": "code",
   "execution_count": 131,
   "metadata": {},
   "outputs": [
    {
     "data": {
      "text/plain": [
       "290"
      ]
     },
     "execution_count": 131,
     "metadata": {},
     "output_type": "execute_result"
    }
   ],
   "source": [
    "# remove hgnc:symbol: from all items in gene_names\n",
    "gene_list = [gene_name.replace(\"hgnc.symbol:\", \"\") for gene_name in gene_names]\n",
    "len(gene_list)"
   ]
  },
  {
   "cell_type": "markdown",
   "metadata": {},
   "source": [
    "Not sure if the following makes sense. \n",
    "Just wanted to analyze if the gene clusters from the node embeddings represent something relevant (e.g. functional groups). -> not yet thoroughly evaluated"
   ]
  },
  {
   "cell_type": "code",
   "execution_count": 132,
   "metadata": {},
   "outputs": [
    {
     "name": "stdout",
     "output_type": "stream",
     "text": [
      "          Gene_set                                     Term Overlap   P-value  \\\n",
      "0  KEGG_2021_Human                 ECM-receptor interaction    8/88  0.000042   \n",
      "1  KEGG_2021_Human  Human T-cell leukemia virus 1 infection  12/219  0.000090   \n",
      "2  KEGG_2021_Human         Protein digestion and absorption   8/103  0.000128   \n",
      "3  KEGG_2021_Human               PI3K-Akt signaling pathway  15/354  0.000221   \n",
      "4  KEGG_2021_Human                                Apoptosis   9/142  0.000233   \n",
      "\n",
      "   Adjusted P-value  Old P-value  Old Adjusted P-value  Odds Ratio  \\\n",
      "0          0.010698            0                     0    6.960993   \n",
      "1          0.010811            0                     0    4.066938   \n",
      "2          0.010811            0                     0    5.857409   \n",
      "3          0.010811            0                     0    3.116814   \n",
      "4          0.010811            0                     0    4.714446   \n",
      "\n",
      "   Combined Score                                              Genes  \n",
      "0       70.186928      VWF;ITGA3;COL4A1;COL6A1;ITGA11;ITGA7;HMMR;GP6  \n",
      "1       37.899944  POLB;NRAS;ZFP36;XPO1;CDKN2C;CREB3L3;KAT5;CHUK;...  \n",
      "2       52.493620  SLC9A3;COL3A1;COL4A1;COL6A1;COL10A1;SLC1A5;ATP...  \n",
      "3       26.238200  SYK;VWF;CHUK;ITGA3;CSH1;CASP9;NRAS;BCL2L11;CRE...  \n",
      "4       39.443688  CASP9;NRAS;BCL2L11;CHUK;CTSL;CYCS;TNFRSF10A;CT...  \n"
     ]
    }
   ],
   "source": [
    "import gseapy as gp\n",
    "\n",
    "# Enrichr library\n",
    "library = \"KEGG_2021_Human\"\n",
    "\n",
    "# Run GSEApy Enrichr\n",
    "enr = gp.enrichr(gene_list=gene_list, gene_sets=library, outdir=None) # description='test'\n",
    "results = enr.results\n",
    "\n",
    "# Display the results\n",
    "print(results.head())\n"
   ]
  },
  {
   "cell_type": "code",
   "execution_count": 133,
   "metadata": {},
   "outputs": [],
   "source": [
    "results[\"number_of_genes\"] = results['Genes'].apply(lambda x: len(x.split(';')))"
   ]
  },
  {
   "cell_type": "code",
   "execution_count": 134,
   "metadata": {},
   "outputs": [
    {
     "data": {
      "text/html": [
       "<div>\n",
       "<style scoped>\n",
       "    .dataframe tbody tr th:only-of-type {\n",
       "        vertical-align: middle;\n",
       "    }\n",
       "\n",
       "    .dataframe tbody tr th {\n",
       "        vertical-align: top;\n",
       "    }\n",
       "\n",
       "    .dataframe thead th {\n",
       "        text-align: right;\n",
       "    }\n",
       "</style>\n",
       "<table border=\"1\" class=\"dataframe\">\n",
       "  <thead>\n",
       "    <tr style=\"text-align: right;\">\n",
       "      <th></th>\n",
       "      <th>Gene_set</th>\n",
       "      <th>Term</th>\n",
       "      <th>Overlap</th>\n",
       "      <th>P-value</th>\n",
       "      <th>Adjusted P-value</th>\n",
       "      <th>Old P-value</th>\n",
       "      <th>Old Adjusted P-value</th>\n",
       "      <th>Odds Ratio</th>\n",
       "      <th>Combined Score</th>\n",
       "      <th>Genes</th>\n",
       "      <th>number_of_genes</th>\n",
       "    </tr>\n",
       "  </thead>\n",
       "  <tbody>\n",
       "    <tr>\n",
       "      <th>0</th>\n",
       "      <td>KEGG_2021_Human</td>\n",
       "      <td>ECM-receptor interaction</td>\n",
       "      <td>8/88</td>\n",
       "      <td>0.000042</td>\n",
       "      <td>0.010698</td>\n",
       "      <td>0</td>\n",
       "      <td>0</td>\n",
       "      <td>6.960993</td>\n",
       "      <td>70.186928</td>\n",
       "      <td>VWF;ITGA3;COL4A1;COL6A1;ITGA11;ITGA7;HMMR;GP6</td>\n",
       "      <td>8</td>\n",
       "    </tr>\n",
       "    <tr>\n",
       "      <th>1</th>\n",
       "      <td>KEGG_2021_Human</td>\n",
       "      <td>Human T-cell leukemia virus 1 infection</td>\n",
       "      <td>12/219</td>\n",
       "      <td>0.000090</td>\n",
       "      <td>0.010811</td>\n",
       "      <td>0</td>\n",
       "      <td>0</td>\n",
       "      <td>4.066938</td>\n",
       "      <td>37.899944</td>\n",
       "      <td>POLB;NRAS;ZFP36;XPO1;CDKN2C;CREB3L3;KAT5;CHUK;...</td>\n",
       "      <td>12</td>\n",
       "    </tr>\n",
       "    <tr>\n",
       "      <th>2</th>\n",
       "      <td>KEGG_2021_Human</td>\n",
       "      <td>Protein digestion and absorption</td>\n",
       "      <td>8/103</td>\n",
       "      <td>0.000128</td>\n",
       "      <td>0.010811</td>\n",
       "      <td>0</td>\n",
       "      <td>0</td>\n",
       "      <td>5.857409</td>\n",
       "      <td>52.493620</td>\n",
       "      <td>SLC9A3;COL3A1;COL4A1;COL6A1;COL10A1;SLC1A5;ATP...</td>\n",
       "      <td>8</td>\n",
       "    </tr>\n",
       "    <tr>\n",
       "      <th>3</th>\n",
       "      <td>KEGG_2021_Human</td>\n",
       "      <td>PI3K-Akt signaling pathway</td>\n",
       "      <td>15/354</td>\n",
       "      <td>0.000221</td>\n",
       "      <td>0.010811</td>\n",
       "      <td>0</td>\n",
       "      <td>0</td>\n",
       "      <td>3.116814</td>\n",
       "      <td>26.238200</td>\n",
       "      <td>SYK;VWF;CHUK;ITGA3;CSH1;CASP9;NRAS;BCL2L11;CRE...</td>\n",
       "      <td>15</td>\n",
       "    </tr>\n",
       "    <tr>\n",
       "      <th>4</th>\n",
       "      <td>KEGG_2021_Human</td>\n",
       "      <td>Apoptosis</td>\n",
       "      <td>9/142</td>\n",
       "      <td>0.000233</td>\n",
       "      <td>0.010811</td>\n",
       "      <td>0</td>\n",
       "      <td>0</td>\n",
       "      <td>4.714446</td>\n",
       "      <td>39.443688</td>\n",
       "      <td>CASP9;NRAS;BCL2L11;CHUK;CTSL;CYCS;TNFRSF10A;CT...</td>\n",
       "      <td>9</td>\n",
       "    </tr>\n",
       "    <tr>\n",
       "      <th>...</th>\n",
       "      <td>...</td>\n",
       "      <td>...</td>\n",
       "      <td>...</td>\n",
       "      <td>...</td>\n",
       "      <td>...</td>\n",
       "      <td>...</td>\n",
       "      <td>...</td>\n",
       "      <td>...</td>\n",
       "      <td>...</td>\n",
       "      <td>...</td>\n",
       "      <td>...</td>\n",
       "    </tr>\n",
       "    <tr>\n",
       "      <th>251</th>\n",
       "      <td>KEGG_2021_Human</td>\n",
       "      <td>Insulin signaling pathway</td>\n",
       "      <td>1/137</td>\n",
       "      <td>0.865732</td>\n",
       "      <td>0.879474</td>\n",
       "      <td>0</td>\n",
       "      <td>0</td>\n",
       "      <td>0.498015</td>\n",
       "      <td>0.071804</td>\n",
       "      <td>NRAS</td>\n",
       "      <td>1</td>\n",
       "    </tr>\n",
       "    <tr>\n",
       "      <th>252</th>\n",
       "      <td>KEGG_2021_Human</td>\n",
       "      <td>Retrograde endocannabinoid signaling</td>\n",
       "      <td>1/148</td>\n",
       "      <td>0.885793</td>\n",
       "      <td>0.896106</td>\n",
       "      <td>0</td>\n",
       "      <td>0</td>\n",
       "      <td>0.460490</td>\n",
       "      <td>0.055845</td>\n",
       "      <td>GABRA6</td>\n",
       "      <td>1</td>\n",
       "    </tr>\n",
       "    <tr>\n",
       "      <th>253</th>\n",
       "      <td>KEGG_2021_Human</td>\n",
       "      <td>Spliceosome</td>\n",
       "      <td>1/150</td>\n",
       "      <td>0.889105</td>\n",
       "      <td>0.896106</td>\n",
       "      <td>0</td>\n",
       "      <td>0</td>\n",
       "      <td>0.454263</td>\n",
       "      <td>0.053394</td>\n",
       "      <td>TRA2B</td>\n",
       "      <td>1</td>\n",
       "    </tr>\n",
       "    <tr>\n",
       "      <th>254</th>\n",
       "      <td>KEGG_2021_Human</td>\n",
       "      <td>Oxytocin signaling pathway</td>\n",
       "      <td>1/154</td>\n",
       "      <td>0.895445</td>\n",
       "      <td>0.898957</td>\n",
       "      <td>0</td>\n",
       "      <td>0</td>\n",
       "      <td>0.442296</td>\n",
       "      <td>0.048845</td>\n",
       "      <td>NRAS</td>\n",
       "      <td>1</td>\n",
       "    </tr>\n",
       "    <tr>\n",
       "      <th>255</th>\n",
       "      <td>KEGG_2021_Human</td>\n",
       "      <td>RNA transport</td>\n",
       "      <td>1/186</td>\n",
       "      <td>0.934745</td>\n",
       "      <td>0.934745</td>\n",
       "      <td>0</td>\n",
       "      <td>0</td>\n",
       "      <td>0.365192</td>\n",
       "      <td>0.024644</td>\n",
       "      <td>XPO1</td>\n",
       "      <td>1</td>\n",
       "    </tr>\n",
       "  </tbody>\n",
       "</table>\n",
       "<p>256 rows × 11 columns</p>\n",
       "</div>"
      ],
      "text/plain": [
       "            Gene_set                                     Term Overlap  \\\n",
       "0    KEGG_2021_Human                 ECM-receptor interaction    8/88   \n",
       "1    KEGG_2021_Human  Human T-cell leukemia virus 1 infection  12/219   \n",
       "2    KEGG_2021_Human         Protein digestion and absorption   8/103   \n",
       "3    KEGG_2021_Human               PI3K-Akt signaling pathway  15/354   \n",
       "4    KEGG_2021_Human                                Apoptosis   9/142   \n",
       "..               ...                                      ...     ...   \n",
       "251  KEGG_2021_Human                Insulin signaling pathway   1/137   \n",
       "252  KEGG_2021_Human     Retrograde endocannabinoid signaling   1/148   \n",
       "253  KEGG_2021_Human                              Spliceosome   1/150   \n",
       "254  KEGG_2021_Human               Oxytocin signaling pathway   1/154   \n",
       "255  KEGG_2021_Human                            RNA transport   1/186   \n",
       "\n",
       "      P-value  Adjusted P-value  Old P-value  Old Adjusted P-value  \\\n",
       "0    0.000042          0.010698            0                     0   \n",
       "1    0.000090          0.010811            0                     0   \n",
       "2    0.000128          0.010811            0                     0   \n",
       "3    0.000221          0.010811            0                     0   \n",
       "4    0.000233          0.010811            0                     0   \n",
       "..        ...               ...          ...                   ...   \n",
       "251  0.865732          0.879474            0                     0   \n",
       "252  0.885793          0.896106            0                     0   \n",
       "253  0.889105          0.896106            0                     0   \n",
       "254  0.895445          0.898957            0                     0   \n",
       "255  0.934745          0.934745            0                     0   \n",
       "\n",
       "     Odds Ratio  Combined Score  \\\n",
       "0      6.960993       70.186928   \n",
       "1      4.066938       37.899944   \n",
       "2      5.857409       52.493620   \n",
       "3      3.116814       26.238200   \n",
       "4      4.714446       39.443688   \n",
       "..          ...             ...   \n",
       "251    0.498015        0.071804   \n",
       "252    0.460490        0.055845   \n",
       "253    0.454263        0.053394   \n",
       "254    0.442296        0.048845   \n",
       "255    0.365192        0.024644   \n",
       "\n",
       "                                                 Genes  number_of_genes  \n",
       "0        VWF;ITGA3;COL4A1;COL6A1;ITGA11;ITGA7;HMMR;GP6                8  \n",
       "1    POLB;NRAS;ZFP36;XPO1;CDKN2C;CREB3L3;KAT5;CHUK;...               12  \n",
       "2    SLC9A3;COL3A1;COL4A1;COL6A1;COL10A1;SLC1A5;ATP...                8  \n",
       "3    SYK;VWF;CHUK;ITGA3;CSH1;CASP9;NRAS;BCL2L11;CRE...               15  \n",
       "4    CASP9;NRAS;BCL2L11;CHUK;CTSL;CYCS;TNFRSF10A;CT...                9  \n",
       "..                                                 ...              ...  \n",
       "251                                               NRAS                1  \n",
       "252                                             GABRA6                1  \n",
       "253                                              TRA2B                1  \n",
       "254                                               NRAS                1  \n",
       "255                                               XPO1                1  \n",
       "\n",
       "[256 rows x 11 columns]"
      ]
     },
     "execution_count": 134,
     "metadata": {},
     "output_type": "execute_result"
    }
   ],
   "source": [
    "results"
   ]
  }
 ],
 "metadata": {
  "kernelspec": {
   "display_name": "Python 3",
   "language": "python",
   "name": "python3"
  },
  "language_info": {
   "codemirror_mode": {
    "name": "ipython",
    "version": 3
   },
   "file_extension": ".py",
   "mimetype": "text/x-python",
   "name": "python",
   "nbconvert_exporter": "python",
   "pygments_lexer": "ipython3",
   "version": "3.9.16"
  }
 },
 "nbformat": 4,
 "nbformat_minor": 2
}
